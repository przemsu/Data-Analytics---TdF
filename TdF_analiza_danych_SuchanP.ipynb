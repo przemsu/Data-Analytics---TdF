{
 "cells": [
  {
   "cell_type": "markdown",
   "metadata": {},
   "source": [
    "# Instalowanie bibliotek w wirtualnym środowisku \n",
    "\n",
    "Do przeprowadzenia analizy danych utworzone zostało wirtualne środowisko o nazie env. W wyodrębnionym miejscu jakim jest wirtualne środowisko zainstalowane zostały biblioteki pomocne w analizie dużych zbiorów danych. \n",
    "\n",
    "Zainstalowane biblioteki:\n",
    "\n",
    "    - pandas \n",
    "    - matplotlib \n",
    "    - seaborn \n",
    "    - numpy\n",
    "    - sklearn"
   ]
  },
  {
   "cell_type": "code",
   "execution_count": 1,
   "metadata": {
    "collapsed": true
   },
   "outputs": [
    {
     "name": "stdout",
     "output_type": "stream",
     "text": [
      "Requirement already satisfied: pandas in /usr/local/Cellar/jupyterlab/2.2.9_1/libexec/lib/python3.9/site-packages (1.2.4)\n",
      "Requirement already satisfied: pytz>=2017.3 in /usr/local/Cellar/jupyterlab/2.2.9_1/libexec/lib/python3.9/site-packages (from pandas) (2021.1)\n",
      "Requirement already satisfied: numpy>=1.16.5 in /usr/local/Cellar/jupyterlab/2.2.9_1/libexec/lib/python3.9/site-packages (from pandas) (1.19.5)\n",
      "Requirement already satisfied: python-dateutil>=2.7.3 in /usr/local/Cellar/jupyterlab/2.2.9_1/libexec/lib/python3.9/site-packages (from pandas) (2.8.1)\n",
      "Requirement already satisfied: six>=1.5 in /usr/local/Cellar/jupyterlab/2.2.9_1/libexec/lib/python3.9/site-packages (from python-dateutil>=2.7.3->pandas) (1.15.0)\n",
      "\u001b[33mWARNING: You are using pip version 20.2.4; however, version 21.1.2 is available.\n",
      "You should consider upgrading via the '/usr/local/Cellar/jupyterlab/2.2.9_1/libexec/bin/python -m pip install --upgrade pip' command.\u001b[0m\n",
      "Note: you may need to restart the kernel to use updated packages.\n"
     ]
    }
   ],
   "source": [
    "pip install pandas "
   ]
  },
  {
   "cell_type": "code",
   "execution_count": 2,
   "metadata": {
    "collapsed": true
   },
   "outputs": [
    {
     "name": "stdout",
     "output_type": "stream",
     "text": [
      "Requirement already satisfied: matplotlib in /usr/local/Cellar/jupyterlab/2.2.9_1/libexec/lib/python3.9/site-packages (3.4.1)\n",
      "Requirement already satisfied: numpy>=1.16 in /usr/local/Cellar/jupyterlab/2.2.9_1/libexec/lib/python3.9/site-packages (from matplotlib) (1.19.5)\n",
      "Requirement already satisfied: pyparsing>=2.2.1 in /usr/local/Cellar/jupyterlab/2.2.9_1/libexec/lib/python3.9/site-packages (from matplotlib) (2.4.7)\n",
      "Requirement already satisfied: cycler>=0.10 in /usr/local/Cellar/jupyterlab/2.2.9_1/libexec/lib/python3.9/site-packages (from matplotlib) (0.10.0)\n",
      "Requirement already satisfied: python-dateutil>=2.7 in /usr/local/Cellar/jupyterlab/2.2.9_1/libexec/lib/python3.9/site-packages (from matplotlib) (2.8.1)\n",
      "Requirement already satisfied: kiwisolver>=1.0.1 in /usr/local/Cellar/jupyterlab/2.2.9_1/libexec/lib/python3.9/site-packages (from matplotlib) (1.3.1)\n",
      "Requirement already satisfied: pillow>=6.2.0 in /usr/local/Cellar/jupyterlab/2.2.9_1/libexec/lib/python3.9/site-packages (from matplotlib) (8.2.0)\n",
      "Requirement already satisfied: six in /usr/local/Cellar/jupyterlab/2.2.9_1/libexec/lib/python3.9/site-packages (from cycler>=0.10->matplotlib) (1.15.0)\n",
      "\u001b[33mWARNING: You are using pip version 20.2.4; however, version 21.1.2 is available.\n",
      "You should consider upgrading via the '/usr/local/Cellar/jupyterlab/2.2.9_1/libexec/bin/python -m pip install --upgrade pip' command.\u001b[0m\n",
      "Note: you may need to restart the kernel to use updated packages.\n"
     ]
    }
   ],
   "source": [
    "pip install matplotlib "
   ]
  },
  {
   "cell_type": "code",
   "execution_count": 3,
   "metadata": {
    "collapsed": true
   },
   "outputs": [
    {
     "name": "stdout",
     "output_type": "stream",
     "text": [
      "Requirement already satisfied: seaborn in /usr/local/Cellar/jupyterlab/2.2.9_1/libexec/lib/python3.9/site-packages (0.11.1)\n",
      "Requirement already satisfied: numpy>=1.15 in /usr/local/Cellar/jupyterlab/2.2.9_1/libexec/lib/python3.9/site-packages (from seaborn) (1.19.5)\n",
      "Requirement already satisfied: scipy>=1.0 in /usr/local/Cellar/jupyterlab/2.2.9_1/libexec/lib/python3.9/site-packages (from seaborn) (1.6.2)\n",
      "Requirement already satisfied: pandas>=0.23 in /usr/local/Cellar/jupyterlab/2.2.9_1/libexec/lib/python3.9/site-packages (from seaborn) (1.2.4)\n",
      "Requirement already satisfied: matplotlib>=2.2 in /usr/local/Cellar/jupyterlab/2.2.9_1/libexec/lib/python3.9/site-packages (from seaborn) (3.4.1)\n",
      "Requirement already satisfied: python-dateutil>=2.7.3 in /usr/local/Cellar/jupyterlab/2.2.9_1/libexec/lib/python3.9/site-packages (from pandas>=0.23->seaborn) (2.8.1)\n",
      "Requirement already satisfied: pytz>=2017.3 in /usr/local/Cellar/jupyterlab/2.2.9_1/libexec/lib/python3.9/site-packages (from pandas>=0.23->seaborn) (2021.1)\n",
      "Requirement already satisfied: cycler>=0.10 in /usr/local/Cellar/jupyterlab/2.2.9_1/libexec/lib/python3.9/site-packages (from matplotlib>=2.2->seaborn) (0.10.0)\n",
      "Requirement already satisfied: pyparsing>=2.2.1 in /usr/local/Cellar/jupyterlab/2.2.9_1/libexec/lib/python3.9/site-packages (from matplotlib>=2.2->seaborn) (2.4.7)\n",
      "Requirement already satisfied: kiwisolver>=1.0.1 in /usr/local/Cellar/jupyterlab/2.2.9_1/libexec/lib/python3.9/site-packages (from matplotlib>=2.2->seaborn) (1.3.1)\n",
      "Requirement already satisfied: pillow>=6.2.0 in /usr/local/Cellar/jupyterlab/2.2.9_1/libexec/lib/python3.9/site-packages (from matplotlib>=2.2->seaborn) (8.2.0)\n",
      "Requirement already satisfied: six>=1.5 in /usr/local/Cellar/jupyterlab/2.2.9_1/libexec/lib/python3.9/site-packages (from python-dateutil>=2.7.3->pandas>=0.23->seaborn) (1.15.0)\n",
      "\u001b[33mWARNING: You are using pip version 20.2.4; however, version 21.1.2 is available.\n",
      "You should consider upgrading via the '/usr/local/Cellar/jupyterlab/2.2.9_1/libexec/bin/python -m pip install --upgrade pip' command.\u001b[0m\n",
      "Note: you may need to restart the kernel to use updated packages.\n"
     ]
    }
   ],
   "source": [
    "pip install seaborn "
   ]
  },
  {
   "cell_type": "code",
   "execution_count": 4,
   "metadata": {
    "collapsed": true
   },
   "outputs": [
    {
     "name": "stdout",
     "output_type": "stream",
     "text": [
      "Requirement already satisfied: numpy in /usr/local/Cellar/jupyterlab/2.2.9_1/libexec/lib/python3.9/site-packages (1.19.5)\n",
      "\u001b[33mWARNING: You are using pip version 20.2.4; however, version 21.1.2 is available.\n",
      "You should consider upgrading via the '/usr/local/Cellar/jupyterlab/2.2.9_1/libexec/bin/python -m pip install --upgrade pip' command.\u001b[0m\n",
      "Note: you may need to restart the kernel to use updated packages.\n"
     ]
    }
   ],
   "source": [
    "pip install numpy "
   ]
  },
  {
   "cell_type": "code",
   "execution_count": 5,
   "metadata": {
    "collapsed": true
   },
   "outputs": [
    {
     "name": "stdout",
     "output_type": "stream",
     "text": [
      "Requirement already satisfied: sklearn in /usr/local/Cellar/jupyterlab/2.2.9_1/libexec/lib/python3.9/site-packages (0.0)\n",
      "Requirement already satisfied: scikit-learn in /usr/local/Cellar/jupyterlab/2.2.9_1/libexec/lib/python3.9/site-packages (from sklearn) (0.24.1)\n",
      "Requirement already satisfied: scipy>=0.19.1 in /usr/local/Cellar/jupyterlab/2.2.9_1/libexec/lib/python3.9/site-packages (from scikit-learn->sklearn) (1.6.2)\n",
      "Requirement already satisfied: threadpoolctl>=2.0.0 in /usr/local/Cellar/jupyterlab/2.2.9_1/libexec/lib/python3.9/site-packages (from scikit-learn->sklearn) (2.1.0)\n",
      "Requirement already satisfied: numpy>=1.13.3 in /usr/local/Cellar/jupyterlab/2.2.9_1/libexec/lib/python3.9/site-packages (from scikit-learn->sklearn) (1.19.5)\n",
      "Requirement already satisfied: joblib>=0.11 in /usr/local/Cellar/jupyterlab/2.2.9_1/libexec/lib/python3.9/site-packages (from scikit-learn->sklearn) (1.0.1)\n",
      "\u001b[33mWARNING: You are using pip version 20.2.4; however, version 21.1.2 is available.\n",
      "You should consider upgrading via the '/usr/local/Cellar/jupyterlab/2.2.9_1/libexec/bin/python -m pip install --upgrade pip' command.\u001b[0m\n",
      "Note: you may need to restart the kernel to use updated packages.\n"
     ]
    }
   ],
   "source": [
    "pip install sklearn "
   ]
  },
  {
   "cell_type": "code",
   "execution_count": 6,
   "metadata": {
    "collapsed": true
   },
   "outputs": [
    {
     "name": "stdout",
     "output_type": "stream",
     "text": [
      "Requirement already satisfied: ipython-sql in /usr/local/Cellar/jupyterlab/2.2.9_1/libexec/lib/python3.9/site-packages (0.4.0)\n",
      "Requirement already satisfied: six in /usr/local/Cellar/jupyterlab/2.2.9_1/libexec/lib/python3.9/site-packages (from ipython-sql) (1.15.0)\n",
      "Requirement already satisfied: ipython-genutils>=0.1.0 in /usr/local/Cellar/jupyterlab/2.2.9_1/libexec/lib/python3.9/site-packages (from ipython-sql) (0.2.0)\n",
      "Requirement already satisfied: ipython>=1.0 in /usr/local/Cellar/jupyterlab/2.2.9_1/libexec/lib/python3.9/site-packages (from ipython-sql) (7.18.1)\n",
      "Requirement already satisfied: prettytable<1 in /usr/local/Cellar/jupyterlab/2.2.9_1/libexec/lib/python3.9/site-packages (from ipython-sql) (0.7.2)\n",
      "Requirement already satisfied: sqlparse in /usr/local/Cellar/jupyterlab/2.2.9_1/libexec/lib/python3.9/site-packages (from ipython-sql) (0.4.1)\n",
      "Requirement already satisfied: sqlalchemy>=0.6.7 in /usr/local/Cellar/jupyterlab/2.2.9_1/libexec/lib/python3.9/site-packages (from ipython-sql) (1.4.14)\n",
      "Requirement already satisfied: setuptools>=18.5 in /usr/local/Cellar/jupyterlab/2.2.9_1/libexec/lib/python3.9/site-packages (from ipython>=1.0->ipython-sql) (50.3.2)\n",
      "Requirement already satisfied: jedi>=0.10 in /usr/local/Cellar/jupyterlab/2.2.9_1/libexec/lib/python3.9/site-packages (from ipython>=1.0->ipython-sql) (0.17.2)\n",
      "Requirement already satisfied: decorator in /usr/local/Cellar/jupyterlab/2.2.9_1/libexec/lib/python3.9/site-packages (from ipython>=1.0->ipython-sql) (4.4.2)\n",
      "Requirement already satisfied: pickleshare in /usr/local/Cellar/jupyterlab/2.2.9_1/libexec/lib/python3.9/site-packages (from ipython>=1.0->ipython-sql) (0.7.5)\n",
      "Requirement already satisfied: traitlets>=4.2 in /usr/local/Cellar/jupyterlab/2.2.9_1/libexec/lib/python3.9/site-packages (from ipython>=1.0->ipython-sql) (5.0.5)\n",
      "Requirement already satisfied: prompt_toolkit!=3.0.0,!=3.0.1,<3.1.0,>=2.0.0 in /usr/local/Cellar/jupyterlab/2.2.9_1/libexec/lib/python3.9/site-packages (from ipython>=1.0->ipython-sql) (3.0.8)\n",
      "Requirement already satisfied: pygments in /usr/local/Cellar/jupyterlab/2.2.9_1/libexec/lib/python3.9/site-packages (from ipython>=1.0->ipython-sql) (2.7.2)\n",
      "Requirement already satisfied: backcall in /usr/local/Cellar/jupyterlab/2.2.9_1/libexec/lib/python3.9/site-packages (from ipython>=1.0->ipython-sql) (0.2.0)\n",
      "Requirement already satisfied: appnope in /usr/local/Cellar/jupyterlab/2.2.9_1/libexec/lib/python3.9/site-packages (from ipython>=1.0->ipython-sql) (0.1.0)\n",
      "Requirement already satisfied: pexpect>4.3 in /usr/local/Cellar/jupyterlab/2.2.9_1/libexec/lib/python3.9/site-packages (from ipython>=1.0->ipython-sql) (4.8.0)\n",
      "Requirement already satisfied: greenlet!=0.4.17; python_version >= \"3\" in /usr/local/Cellar/jupyterlab/2.2.9_1/libexec/lib/python3.9/site-packages (from sqlalchemy>=0.6.7->ipython-sql) (1.1.0)\n",
      "Requirement already satisfied: parso<0.8.0,>=0.7.0 in /usr/local/Cellar/jupyterlab/2.2.9_1/libexec/lib/python3.9/site-packages (from jedi>=0.10->ipython>=1.0->ipython-sql) (0.7.1)\n",
      "Requirement already satisfied: wcwidth in /usr/local/Cellar/jupyterlab/2.2.9_1/libexec/lib/python3.9/site-packages (from prompt_toolkit!=3.0.0,!=3.0.1,<3.1.0,>=2.0.0->ipython>=1.0->ipython-sql) (0.2.5)\n",
      "Requirement already satisfied: ptyprocess>=0.5 in /usr/local/Cellar/jupyterlab/2.2.9_1/libexec/lib/python3.9/site-packages (from pexpect>4.3->ipython>=1.0->ipython-sql) (0.6.0)\n",
      "\u001b[33mWARNING: You are using pip version 20.2.4; however, version 21.1.2 is available.\n",
      "You should consider upgrading via the '/usr/local/Cellar/jupyterlab/2.2.9_1/libexec/bin/python -m pip install --upgrade pip' command.\u001b[0m\n",
      "Note: you may need to restart the kernel to use updated packages.\n"
     ]
    }
   ],
   "source": [
    "pip install ipython-sql "
   ]
  },
  {
   "cell_type": "markdown",
   "metadata": {},
   "source": [
    "# Importowanie modułu \"pandas\" w celu odczytania plików csv pobranych ze strony kaggle.com"
   ]
  },
  {
   "cell_type": "code",
   "execution_count": 7,
   "metadata": {},
   "outputs": [],
   "source": [
    "import pandas as pd"
   ]
  },
  {
   "cell_type": "markdown",
   "metadata": {},
   "source": [
    "# Importowanie plików csv"
   ]
  },
  {
   "cell_type": "code",
   "execution_count": 8,
   "metadata": {},
   "outputs": [],
   "source": [
    "tdf_stages = pd.read_csv('/Users/przemeksuchan/Desktop/Data Science - projekt/tdf_stages.csv')"
   ]
  },
  {
   "cell_type": "code",
   "execution_count": 9,
   "metadata": {},
   "outputs": [],
   "source": [
    "tdf_winners = pd.read_csv('/Users/przemeksuchan/Desktop/Data Science - projekt/tdf_winners.csv')"
   ]
  },
  {
   "cell_type": "code",
   "execution_count": 10,
   "metadata": {},
   "outputs": [],
   "source": [
    "hist_guide = pd.read_csv('/Users/przemeksuchan/Desktop/Data Science - projekt/2018_historical_guide.csv')"
   ]
  },
  {
   "cell_type": "code",
   "execution_count": 11,
   "metadata": {},
   "outputs": [],
   "source": [
    "unic_geo_codes = pd.read_csv('/Users/przemeksuchan/Desktop/Data Science - projekt/unique_stage_geocode.csv')"
   ]
  },
  {
   "cell_type": "markdown",
   "metadata": {},
   "source": [
    "# Analiza pliku 'tdf_winners'"
   ]
  },
  {
   "cell_type": "markdown",
   "metadata": {},
   "source": [
    "## Wyświetlanie podstawowych informacji o poszczególnych plikach za pomocą zaimportowanej wcześniej biblioteki."
   ]
  },
  {
   "cell_type": "code",
   "execution_count": 12,
   "metadata": {},
   "outputs": [
    {
     "data": {
      "text/html": [
       "<div>\n",
       "<style scoped>\n",
       "    .dataframe tbody tr th:only-of-type {\n",
       "        vertical-align: middle;\n",
       "    }\n",
       "\n",
       "    .dataframe tbody tr th {\n",
       "        vertical-align: top;\n",
       "    }\n",
       "\n",
       "    .dataframe thead th {\n",
       "        text-align: right;\n",
       "    }\n",
       "</style>\n",
       "<table border=\"1\" class=\"dataframe\">\n",
       "  <thead>\n",
       "    <tr style=\"text-align: right;\">\n",
       "      <th></th>\n",
       "      <th>edition</th>\n",
       "      <th>start_date</th>\n",
       "      <th>winner_name</th>\n",
       "      <th>winner_team</th>\n",
       "      <th>distance</th>\n",
       "      <th>time_overall</th>\n",
       "      <th>time_margin</th>\n",
       "      <th>stage_wins</th>\n",
       "      <th>stages_led</th>\n",
       "      <th>height</th>\n",
       "      <th>weight</th>\n",
       "      <th>age</th>\n",
       "      <th>born</th>\n",
       "      <th>died</th>\n",
       "      <th>full_name</th>\n",
       "      <th>nickname</th>\n",
       "      <th>birth_town</th>\n",
       "      <th>birth_country</th>\n",
       "      <th>nationality</th>\n",
       "    </tr>\n",
       "  </thead>\n",
       "  <tbody>\n",
       "    <tr>\n",
       "      <th>0</th>\n",
       "      <td>1</td>\n",
       "      <td>1903-07-01</td>\n",
       "      <td>Maurice Garin</td>\n",
       "      <td>La Française</td>\n",
       "      <td>2428.0</td>\n",
       "      <td>94.553889</td>\n",
       "      <td>2.989167</td>\n",
       "      <td>3</td>\n",
       "      <td>6</td>\n",
       "      <td>1.62</td>\n",
       "      <td>60.0</td>\n",
       "      <td>32</td>\n",
       "      <td>1871-03-03</td>\n",
       "      <td>1957-02-19</td>\n",
       "      <td>NaN</td>\n",
       "      <td>The Little Chimney-sweep</td>\n",
       "      <td>Arvier</td>\n",
       "      <td>Italy</td>\n",
       "      <td>France</td>\n",
       "    </tr>\n",
       "    <tr>\n",
       "      <th>1</th>\n",
       "      <td>2</td>\n",
       "      <td>1904-07-02</td>\n",
       "      <td>Henri Cornet</td>\n",
       "      <td>Conte</td>\n",
       "      <td>2428.0</td>\n",
       "      <td>96.098611</td>\n",
       "      <td>2.270556</td>\n",
       "      <td>1</td>\n",
       "      <td>3</td>\n",
       "      <td>NaN</td>\n",
       "      <td>NaN</td>\n",
       "      <td>19</td>\n",
       "      <td>1884-08-04</td>\n",
       "      <td>1941-03-18</td>\n",
       "      <td>NaN</td>\n",
       "      <td>Le rigolo (The joker)</td>\n",
       "      <td>Desvres</td>\n",
       "      <td>France</td>\n",
       "      <td>France</td>\n",
       "    </tr>\n",
       "    <tr>\n",
       "      <th>2</th>\n",
       "      <td>3</td>\n",
       "      <td>1905-07-09</td>\n",
       "      <td>Louis Trousselier</td>\n",
       "      <td>Peugeot–Wolber</td>\n",
       "      <td>2994.0</td>\n",
       "      <td>NaN</td>\n",
       "      <td>NaN</td>\n",
       "      <td>5</td>\n",
       "      <td>10</td>\n",
       "      <td>NaN</td>\n",
       "      <td>NaN</td>\n",
       "      <td>24</td>\n",
       "      <td>1881-06-29</td>\n",
       "      <td>1939-04-24</td>\n",
       "      <td>NaN</td>\n",
       "      <td>Levaloy / Trou-trou</td>\n",
       "      <td>Paris</td>\n",
       "      <td>France</td>\n",
       "      <td>France</td>\n",
       "    </tr>\n",
       "    <tr>\n",
       "      <th>3</th>\n",
       "      <td>4</td>\n",
       "      <td>1906-07-04</td>\n",
       "      <td>René Pottier</td>\n",
       "      <td>Peugeot–Wolber</td>\n",
       "      <td>4637.0</td>\n",
       "      <td>NaN</td>\n",
       "      <td>NaN</td>\n",
       "      <td>5</td>\n",
       "      <td>12</td>\n",
       "      <td>NaN</td>\n",
       "      <td>NaN</td>\n",
       "      <td>27</td>\n",
       "      <td>1879-06-05</td>\n",
       "      <td>1907-01-25</td>\n",
       "      <td>NaN</td>\n",
       "      <td>NaN</td>\n",
       "      <td>Moret-sur-Loing</td>\n",
       "      <td>France</td>\n",
       "      <td>France</td>\n",
       "    </tr>\n",
       "    <tr>\n",
       "      <th>4</th>\n",
       "      <td>5</td>\n",
       "      <td>1907-07-08</td>\n",
       "      <td>Lucien Petit-Breton</td>\n",
       "      <td>Peugeot–Wolber</td>\n",
       "      <td>4488.0</td>\n",
       "      <td>NaN</td>\n",
       "      <td>NaN</td>\n",
       "      <td>2</td>\n",
       "      <td>5</td>\n",
       "      <td>NaN</td>\n",
       "      <td>NaN</td>\n",
       "      <td>24</td>\n",
       "      <td>1882-10-18</td>\n",
       "      <td>1917-12-20</td>\n",
       "      <td>Lucien Georges Mazan</td>\n",
       "      <td>Lucien Petit-Breton</td>\n",
       "      <td>Plessé</td>\n",
       "      <td>France</td>\n",
       "      <td>France</td>\n",
       "    </tr>\n",
       "  </tbody>\n",
       "</table>\n",
       "</div>"
      ],
      "text/plain": [
       "   edition  start_date          winner_name     winner_team  distance  \\\n",
       "0        1  1903-07-01        Maurice Garin    La Française    2428.0   \n",
       "1        2  1904-07-02         Henri Cornet           Conte    2428.0   \n",
       "2        3  1905-07-09    Louis Trousselier  Peugeot–Wolber    2994.0   \n",
       "3        4  1906-07-04         René Pottier  Peugeot–Wolber    4637.0   \n",
       "4        5  1907-07-08  Lucien Petit-Breton  Peugeot–Wolber    4488.0   \n",
       "\n",
       "   time_overall  time_margin  stage_wins  stages_led  height  weight  age  \\\n",
       "0     94.553889     2.989167           3           6    1.62    60.0   32   \n",
       "1     96.098611     2.270556           1           3     NaN     NaN   19   \n",
       "2           NaN          NaN           5          10     NaN     NaN   24   \n",
       "3           NaN          NaN           5          12     NaN     NaN   27   \n",
       "4           NaN          NaN           2           5     NaN     NaN   24   \n",
       "\n",
       "         born        died             full_name                  nickname  \\\n",
       "0  1871-03-03  1957-02-19                   NaN  The Little Chimney-sweep   \n",
       "1  1884-08-04  1941-03-18                   NaN     Le rigolo (The joker)   \n",
       "2  1881-06-29  1939-04-24                   NaN       Levaloy / Trou-trou   \n",
       "3  1879-06-05  1907-01-25                   NaN                       NaN   \n",
       "4  1882-10-18  1917-12-20  Lucien Georges Mazan       Lucien Petit-Breton   \n",
       "\n",
       "        birth_town birth_country nationality  \n",
       "0           Arvier         Italy      France  \n",
       "1          Desvres        France      France  \n",
       "2            Paris        France      France  \n",
       "3  Moret-sur-Loing        France      France  \n",
       "4           Plessé        France      France  "
      ]
     },
     "execution_count": 12,
     "metadata": {},
     "output_type": "execute_result"
    }
   ],
   "source": [
    "tdf_winners.head()"
   ]
  },
  {
   "cell_type": "markdown",
   "metadata": {},
   "source": [
    "## Znajdowanie wartości Null oraz ich zamiana na wartość najczęściej  występującą w zbiorze (modalna) + usunięcie niepotrzebnych kolumn"
   ]
  },
  {
   "cell_type": "code",
   "execution_count": 13,
   "metadata": {},
   "outputs": [
    {
     "name": "stdout",
     "output_type": "stream",
     "text": [
      "full_name        60\n",
      "died             50\n",
      "height           40\n",
      "weight           39\n",
      "nickname         32\n",
      "time_overall      8\n",
      "time_margin       8\n",
      "age               0\n",
      "birth_country     0\n",
      "birth_town        0\n",
      "born              0\n",
      "edition           0\n",
      "start_date        0\n",
      "stages_led        0\n",
      "stage_wins        0\n",
      "distance          0\n",
      "winner_team       0\n",
      "winner_name       0\n",
      "nationality       0\n",
      "dtype: int64\n"
     ]
    }
   ],
   "source": [
    "print(tdf_winners.isnull().sum().sort_values(ascending = False))"
   ]
  },
  {
   "cell_type": "code",
   "execution_count": 14,
   "metadata": {},
   "outputs": [],
   "source": [
    "tdf_winners.drop('full_name', axis = 1, inplace = True)"
   ]
  },
  {
   "cell_type": "code",
   "execution_count": 15,
   "metadata": {},
   "outputs": [],
   "source": [
    "tdf_winners.drop('died', axis = 1, inplace = True)"
   ]
  },
  {
   "cell_type": "code",
   "execution_count": 16,
   "metadata": {},
   "outputs": [],
   "source": [
    "tdf_winners.drop('nickname', axis = 1, inplace = True)"
   ]
  },
  {
   "cell_type": "code",
   "execution_count": 17,
   "metadata": {},
   "outputs": [
    {
     "name": "stdout",
     "output_type": "stream",
     "text": [
      "height           40\n",
      "weight           39\n",
      "time_overall      8\n",
      "time_margin       8\n",
      "edition           0\n",
      "start_date        0\n",
      "winner_name       0\n",
      "winner_team       0\n",
      "distance          0\n",
      "stage_wins        0\n",
      "stages_led        0\n",
      "age               0\n",
      "born              0\n",
      "birth_town        0\n",
      "birth_country     0\n",
      "nationality       0\n",
      "dtype: int64\n"
     ]
    }
   ],
   "source": [
    "print(tdf_winners.isnull().sum().sort_values(ascending = False))"
   ]
  },
  {
   "cell_type": "code",
   "execution_count": 18,
   "metadata": {},
   "outputs": [
    {
     "data": {
      "text/plain": [
       "1.77"
      ]
     },
     "execution_count": 18,
     "metadata": {},
     "output_type": "execute_result"
    }
   ],
   "source": [
    "tdf_winners['height'].mode()[0]"
   ]
  },
  {
   "cell_type": "code",
   "execution_count": 19,
   "metadata": {},
   "outputs": [],
   "source": [
    "tdf_winners['height'].fillna(tdf_winners['height'].mode()[0], inplace = True)"
   ]
  },
  {
   "cell_type": "code",
   "execution_count": 20,
   "metadata": {},
   "outputs": [
    {
     "data": {
      "text/plain": [
       "75.0"
      ]
     },
     "execution_count": 20,
     "metadata": {},
     "output_type": "execute_result"
    }
   ],
   "source": [
    "tdf_winners['weight'].mode()[0]"
   ]
  },
  {
   "cell_type": "code",
   "execution_count": 21,
   "metadata": {},
   "outputs": [],
   "source": [
    "tdf_winners['weight'].fillna(tdf_winners['weight'].mode()[0], inplace = True)"
   ]
  },
  {
   "cell_type": "code",
   "execution_count": 22,
   "metadata": {},
   "outputs": [
    {
     "data": {
      "text/plain": [
       "82.08666666666666"
      ]
     },
     "execution_count": 22,
     "metadata": {},
     "output_type": "execute_result"
    }
   ],
   "source": [
    "tdf_winners['time_overall'].mode()[0]"
   ]
  },
  {
   "cell_type": "code",
   "execution_count": 23,
   "metadata": {},
   "outputs": [],
   "source": [
    "tdf_winners['time_overall'].fillna(tdf_winners['time_overall'].mode()[0], inplace = True)"
   ]
  },
  {
   "cell_type": "code",
   "execution_count": 24,
   "metadata": {},
   "outputs": [
    {
     "data": {
      "text/plain": [
       "0.0677777777777777"
      ]
     },
     "execution_count": 24,
     "metadata": {},
     "output_type": "execute_result"
    }
   ],
   "source": [
    "tdf_winners['time_margin'].mode()[0]"
   ]
  },
  {
   "cell_type": "code",
   "execution_count": 25,
   "metadata": {},
   "outputs": [],
   "source": [
    "tdf_winners['time_margin'].fillna(tdf_winners['time_margin'].mode()[0], inplace = True)"
   ]
  },
  {
   "cell_type": "code",
   "execution_count": 26,
   "metadata": {},
   "outputs": [
    {
     "name": "stdout",
     "output_type": "stream",
     "text": [
      "edition          0\n",
      "start_date       0\n",
      "winner_name      0\n",
      "winner_team      0\n",
      "distance         0\n",
      "time_overall     0\n",
      "time_margin      0\n",
      "stage_wins       0\n",
      "stages_led       0\n",
      "height           0\n",
      "weight           0\n",
      "age              0\n",
      "born             0\n",
      "birth_town       0\n",
      "birth_country    0\n",
      "nationality      0\n",
      "dtype: int64\n"
     ]
    }
   ],
   "source": [
    "print(tdf_winners.isnull().sum().sort_values(ascending = False))"
   ]
  },
  {
   "cell_type": "markdown",
   "metadata": {},
   "source": [
    "## Opis zbioru danych podstawowymi wartościami matematycznymi"
   ]
  },
  {
   "cell_type": "code",
   "execution_count": 27,
   "metadata": {
    "scrolled": false
   },
   "outputs": [
    {
     "data": {
      "text/html": [
       "<div>\n",
       "<style scoped>\n",
       "    .dataframe tbody tr th:only-of-type {\n",
       "        vertical-align: middle;\n",
       "    }\n",
       "\n",
       "    .dataframe tbody tr th {\n",
       "        vertical-align: top;\n",
       "    }\n",
       "\n",
       "    .dataframe thead th {\n",
       "        text-align: right;\n",
       "    }\n",
       "</style>\n",
       "<table border=\"1\" class=\"dataframe\">\n",
       "  <thead>\n",
       "    <tr style=\"text-align: right;\">\n",
       "      <th></th>\n",
       "      <th>edition</th>\n",
       "      <th>distance</th>\n",
       "      <th>time_overall</th>\n",
       "      <th>time_margin</th>\n",
       "      <th>stage_wins</th>\n",
       "      <th>stages_led</th>\n",
       "      <th>height</th>\n",
       "      <th>weight</th>\n",
       "      <th>age</th>\n",
       "    </tr>\n",
       "  </thead>\n",
       "  <tbody>\n",
       "    <tr>\n",
       "      <th>count</th>\n",
       "      <td>106.000000</td>\n",
       "      <td>106.000000</td>\n",
       "      <td>106.000000</td>\n",
       "      <td>106.000000</td>\n",
       "      <td>106.000000</td>\n",
       "      <td>106.000000</td>\n",
       "      <td>106.000000</td>\n",
       "      <td>106.000000</td>\n",
       "      <td>106.000000</td>\n",
       "    </tr>\n",
       "    <tr>\n",
       "      <th>mean</th>\n",
       "      <td>53.500000</td>\n",
       "      <td>4212.064151</td>\n",
       "      <td>122.459261</td>\n",
       "      <td>0.252636</td>\n",
       "      <td>2.735849</td>\n",
       "      <td>10.792453</td>\n",
       "      <td>1.775472</td>\n",
       "      <td>71.367925</td>\n",
       "      <td>27.716981</td>\n",
       "    </tr>\n",
       "    <tr>\n",
       "      <th>std</th>\n",
       "      <td>30.743563</td>\n",
       "      <td>704.284160</td>\n",
       "      <td>41.592213</td>\n",
       "      <td>0.460760</td>\n",
       "      <td>1.842885</td>\n",
       "      <td>5.307169</td>\n",
       "      <td>0.045042</td>\n",
       "      <td>5.922235</td>\n",
       "      <td>3.354470</td>\n",
       "    </tr>\n",
       "    <tr>\n",
       "      <th>min</th>\n",
       "      <td>1.000000</td>\n",
       "      <td>2428.000000</td>\n",
       "      <td>82.086667</td>\n",
       "      <td>0.002222</td>\n",
       "      <td>0.000000</td>\n",
       "      <td>1.000000</td>\n",
       "      <td>1.610000</td>\n",
       "      <td>52.000000</td>\n",
       "      <td>19.000000</td>\n",
       "    </tr>\n",
       "    <tr>\n",
       "      <th>25%</th>\n",
       "      <td>27.250000</td>\n",
       "      <td>3657.875000</td>\n",
       "      <td>90.169306</td>\n",
       "      <td>0.050833</td>\n",
       "      <td>1.000000</td>\n",
       "      <td>6.250000</td>\n",
       "      <td>1.762500</td>\n",
       "      <td>68.000000</td>\n",
       "      <td>26.000000</td>\n",
       "    </tr>\n",
       "    <tr>\n",
       "      <th>50%</th>\n",
       "      <td>53.500000</td>\n",
       "      <td>4155.500000</td>\n",
       "      <td>112.775694</td>\n",
       "      <td>0.076250</td>\n",
       "      <td>2.000000</td>\n",
       "      <td>12.000000</td>\n",
       "      <td>1.770000</td>\n",
       "      <td>75.000000</td>\n",
       "      <td>28.000000</td>\n",
       "    </tr>\n",
       "    <tr>\n",
       "      <th>75%</th>\n",
       "      <td>79.750000</td>\n",
       "      <td>4652.500000</td>\n",
       "      <td>141.062847</td>\n",
       "      <td>0.237222</td>\n",
       "      <td>4.000000</td>\n",
       "      <td>14.000000</td>\n",
       "      <td>1.780000</td>\n",
       "      <td>75.000000</td>\n",
       "      <td>30.000000</td>\n",
       "    </tr>\n",
       "    <tr>\n",
       "      <th>max</th>\n",
       "      <td>106.000000</td>\n",
       "      <td>5745.000000</td>\n",
       "      <td>238.740278</td>\n",
       "      <td>2.989167</td>\n",
       "      <td>8.000000</td>\n",
       "      <td>22.000000</td>\n",
       "      <td>1.900000</td>\n",
       "      <td>88.000000</td>\n",
       "      <td>36.000000</td>\n",
       "    </tr>\n",
       "  </tbody>\n",
       "</table>\n",
       "</div>"
      ],
      "text/plain": [
       "          edition     distance  time_overall  time_margin  stage_wins  \\\n",
       "count  106.000000   106.000000    106.000000   106.000000  106.000000   \n",
       "mean    53.500000  4212.064151    122.459261     0.252636    2.735849   \n",
       "std     30.743563   704.284160     41.592213     0.460760    1.842885   \n",
       "min      1.000000  2428.000000     82.086667     0.002222    0.000000   \n",
       "25%     27.250000  3657.875000     90.169306     0.050833    1.000000   \n",
       "50%     53.500000  4155.500000    112.775694     0.076250    2.000000   \n",
       "75%     79.750000  4652.500000    141.062847     0.237222    4.000000   \n",
       "max    106.000000  5745.000000    238.740278     2.989167    8.000000   \n",
       "\n",
       "       stages_led      height      weight         age  \n",
       "count  106.000000  106.000000  106.000000  106.000000  \n",
       "mean    10.792453    1.775472   71.367925   27.716981  \n",
       "std      5.307169    0.045042    5.922235    3.354470  \n",
       "min      1.000000    1.610000   52.000000   19.000000  \n",
       "25%      6.250000    1.762500   68.000000   26.000000  \n",
       "50%     12.000000    1.770000   75.000000   28.000000  \n",
       "75%     14.000000    1.780000   75.000000   30.000000  \n",
       "max     22.000000    1.900000   88.000000   36.000000  "
      ]
     },
     "execution_count": 27,
     "metadata": {},
     "output_type": "execute_result"
    }
   ],
   "source": [
    "tdf_winners.describe()"
   ]
  },
  {
   "cell_type": "markdown",
   "metadata": {},
   "source": [
    "## Typy danych zawarte w pliku 'tdf_winners'"
   ]
  },
  {
   "cell_type": "code",
   "execution_count": 28,
   "metadata": {},
   "outputs": [
    {
     "data": {
      "text/plain": [
       "edition            int64\n",
       "start_date        object\n",
       "winner_name       object\n",
       "winner_team       object\n",
       "distance         float64\n",
       "time_overall     float64\n",
       "time_margin      float64\n",
       "stage_wins         int64\n",
       "stages_led         int64\n",
       "height           float64\n",
       "weight           float64\n",
       "age                int64\n",
       "born              object\n",
       "birth_town        object\n",
       "birth_country     object\n",
       "nationality       object\n",
       "dtype: object"
      ]
     },
     "execution_count": 28,
     "metadata": {},
     "output_type": "execute_result"
    }
   ],
   "source": [
    "tdf_winners.dtypes"
   ]
  },
  {
   "cell_type": "markdown",
   "metadata": {},
   "source": [
    "## Wyliczenie korelacji w celu wykrycia potencjalnej zależności pomiędzy ilością wygranych etapów a wiekiem, wzrostem oraz wagą"
   ]
  },
  {
   "cell_type": "code",
   "execution_count": 29,
   "metadata": {},
   "outputs": [],
   "source": [
    "import seaborn as sns"
   ]
  },
  {
   "cell_type": "code",
   "execution_count": 30,
   "metadata": {},
   "outputs": [
    {
     "data": {
      "image/png": "[encoded data removed]",
      "text/plain": [
       "<Figure size 432x288 with 2 Axes>"
      ]
     },
     "metadata": {
      "needs_background": "light"
     },
     "output_type": "display_data"
    }
   ],
   "source": [
    "corr = tdf_winners.corr()\n",
    "ax = sns.heatmap(\n",
    "    corr, \n",
    "    vmin=-1, vmax=1, center=0,\n",
    "     cmap=sns.diverging_palette(20, 220, n=200),\n",
    "    square=True\n",
    ")\n",
    "ax.set_xticklabels(\n",
    "    ax.get_xticklabels(),\n",
    "    rotation=45,\n",
    "    horizontalalignment='right'\n",
    ");"
   ]
  },
  {
   "cell_type": "code",
   "execution_count": 31,
   "metadata": {},
   "outputs": [
    {
     "name": "stdout",
     "output_type": "stream",
     "text": [
      "                 age  stage_wins\n",
      "age         1.000000   -0.163187\n",
      "stage_wins -0.163187    1.000000\n"
     ]
    }
   ],
   "source": [
    "print(tdf_winners[['age','stage_wins']].corr())"
   ]
  },
  {
   "cell_type": "markdown",
   "metadata": {},
   "source": [
    "Korelacja pomiędzy wiekiem i wzrotem kolarzy jest ujemna, co oznacza, że jeśli wiek kolarza wzrasta ilość wygranych etapów teoretycznie jest mniejsza i odwrotnie. Korelacja największą wartość przyjmuje w liczbie 1/-1. Wynik na poziomie -0.2 (w zaokrągleniu) nie wskazuje na wysoką zależność pomiędzy tymi dwoma parametrami."
   ]
  },
  {
   "cell_type": "code",
   "execution_count": 32,
   "metadata": {
    "scrolled": true
   },
   "outputs": [
    {
     "name": "stdout",
     "output_type": "stream",
     "text": [
      "              height  stage_wins\n",
      "height      1.000000   -0.090271\n",
      "stage_wins -0.090271    1.000000\n"
     ]
    }
   ],
   "source": [
    "print(tdf_winners[['height','stage_wins']].corr())"
   ]
  },
  {
   "cell_type": "markdown",
   "metadata": {},
   "source": [
    "Podobnie jak w poprzednim przypadku. Korelacja wzrostu kolarzy oraz ilości wygranych etapów jest ujemna,\n",
    "jednak jej wartość nie jest na tyle wyoska, aby uznać tę zależność za istotną."
   ]
  },
  {
   "cell_type": "code",
   "execution_count": 33,
   "metadata": {
    "scrolled": true
   },
   "outputs": [
    {
     "name": "stdout",
     "output_type": "stream",
     "text": [
      "              weight  stage_wins\n",
      "weight      1.000000    0.022952\n",
      "stage_wins  0.022952    1.000000\n"
     ]
    }
   ],
   "source": [
    "print(tdf_winners[['weight','stage_wins']].corr())"
   ]
  },
  {
   "cell_type": "markdown",
   "metadata": {},
   "source": [
    "Odmiennie do poprzednich przypadków, korleacja pomiędzy wagą kolarzy a ilością wygranych etapów jest dodatnia.\n",
    "Oznacza to, obie wartości posiadają tendencję wzrostową. Korelacja przyjmuje jednak zbyt niską wartość, aby uznać\n",
    "ją za istotną."
   ]
  },
  {
   "cell_type": "markdown",
   "metadata": {},
   "source": [
    "## Kreślenie wykresu obrazującego zmianę dystansu wyścigu na przestrzeni kolejnych edycji"
   ]
  },
  {
   "cell_type": "code",
   "execution_count": 34,
   "metadata": {},
   "outputs": [],
   "source": [
    "import matplotlib.pyplot as plt"
   ]
  },
  {
   "cell_type": "code",
   "execution_count": 35,
   "metadata": {},
   "outputs": [],
   "source": [
    "import seaborn as sns"
   ]
  },
  {
   "cell_type": "code",
   "execution_count": 36,
   "metadata": {
    "scrolled": false
   },
   "outputs": [
    {
     "data": {
      "text/plain": [
       "Text(0, 0.5, 'Dystans [km]')"
      ]
     },
     "execution_count": 36,
     "metadata": {},
     "output_type": "execute_result"
    },
    {
     "data": {
      "image/png": "[encoded data removed]",
      "text/plain": [
       "<Figure size 792x504 with 1 Axes>"
      ]
     },
     "metadata": {
      "needs_background": "light"
     },
     "output_type": "display_data"
    }
   ],
   "source": [
    "data = tdf_winners\n",
    "fig, scatter = plt.subplots(figsize = (11,7))\n",
    "scatter = sns.scatterplot(x = 'edition', y ='distance', data=tdf_winners)\n",
    "scatter.set_title('Dystans wyścigu w poszczególnych latach', fontsize = 15)\n",
    "scatter.set_xlabel('Edycja', fontsize = 12)\n",
    "scatter.set_ylabel ('Dystans [km]', fontsize = 12)"
   ]
  },
  {
   "cell_type": "markdown",
   "metadata": {},
   "source": [
    "## Sumowanie liczby zwycięstw ze względu na różne kolumny"
   ]
  },
  {
   "cell_type": "code",
   "execution_count": 37,
   "metadata": {},
   "outputs": [
    {
     "data": {
      "text/plain": [
       "France                 12\n",
       "Alcyon–Dunlop           8\n",
       "Peugeot–Wolber          7\n",
       "Team Sky                6\n",
       "U.S. Postal Service     6\n",
       "Banesto                 5\n",
       "Italy                   5\n",
       "Belgium                 3\n",
       "Molteni                 3\n",
       "La Sportive             3\n",
       "Name: winner_team, dtype: int64"
      ]
     },
     "execution_count": 37,
     "metadata": {},
     "output_type": "execute_result"
    }
   ],
   "source": [
    "# zsumowana liczba wygranych wyścigów ze względu na zespół\n",
    "tdf_winners['winner_team'].value_counts().head(10)"
   ]
  },
  {
   "cell_type": "code",
   "execution_count": 38,
   "metadata": {
    "scrolled": true
   },
   "outputs": [
    {
     "data": {
      "text/plain": [
       "Eddy Merckx            5\n",
       "Bernard Hinault        5\n",
       "Miguel Induráin        5\n",
       "Jacques Anquetil       5\n",
       "Chris Froome           4\n",
       "Philippe Thys          3\n",
       "Greg LeMond            3\n",
       "Louison Bobet          3\n",
       "Lucien Petit-Breton    2\n",
       "Nicolas Frantz         2\n",
       "Name: winner_name, dtype: int64"
      ]
     },
     "execution_count": 38,
     "metadata": {},
     "output_type": "execute_result"
    }
   ],
   "source": [
    "# zsumowana liczba wygranych wyścigów poprzez poszczególnych zawodników z wyłączeniem Lance Armstronga\n",
    "# dyskwalifikacja za doping - łącznie 7 zwycięstw\n",
    "tdf_winners['winner_name'].value_counts().iloc[1:11]"
   ]
  },
  {
   "cell_type": "code",
   "execution_count": 39,
   "metadata": {},
   "outputs": [
    {
     "data": {
      "text/plain": [
       "birth_country\n",
       "France         36\n",
       "Belgium        19\n",
       "Spain          12\n",
       "Italy          11\n",
       "USA            10\n",
       "Kenya           4\n",
       "Luxembourg      4\n",
       "Netherlands     2\n",
       "Switzerland     2\n",
       "Australia       1\n",
       "Columbia        1\n",
       "dtype: int64"
      ]
     },
     "execution_count": 39,
     "metadata": {},
     "output_type": "execute_result"
    }
   ],
   "source": [
    "# zsumowana liczba wygranych wyścigów ze względu na narodowość zwyciezcy\n",
    "tdf_winners.groupby(['birth_country']).size().sort_values(ascending = False).head(11)"
   ]
  },
  {
   "cell_type": "code",
   "execution_count": 40,
   "metadata": {},
   "outputs": [
    {
     "data": {
      "text/plain": [
       "winner_name       birth_country\n",
       "Lance Armstrong   USA              7\n",
       "Bernard Hinault   France           5\n",
       "Jacques Anquetil  France           5\n",
       "Miguel Induráin   Spain            5\n",
       "Eddy Merckx       Belgium          5\n",
       "dtype: int64"
      ]
     },
     "execution_count": 40,
     "metadata": {},
     "output_type": "execute_result"
    }
   ],
   "source": [
    "# zsumowana wartość wygranych wyścigów przez poszczególnych kolarzy wraz z ich narodowością\n",
    "tdf_winners.groupby(['winner_name','birth_country']).size().sort_values(ascending = False).head()"
   ]
  },
  {
   "cell_type": "markdown",
   "metadata": {},
   "source": [
    "# Analiza pliku 'hist_guide'"
   ]
  },
  {
   "cell_type": "markdown",
   "metadata": {},
   "source": [
    "## Wyświetlenie pierwszych wierszy z pliku"
   ]
  },
  {
   "cell_type": "code",
   "execution_count": 41,
   "metadata": {
    "scrolled": false
   },
   "outputs": [
    {
     "data": {
      "text/html": [
       "<div>\n",
       "<style scoped>\n",
       "    .dataframe tbody tr th:only-of-type {\n",
       "        vertical-align: middle;\n",
       "    }\n",
       "\n",
       "    .dataframe tbody tr th {\n",
       "        vertical-align: top;\n",
       "    }\n",
       "\n",
       "    .dataframe thead th {\n",
       "        text-align: right;\n",
       "    }\n",
       "</style>\n",
       "<table border=\"1\" class=\"dataframe\">\n",
       "  <thead>\n",
       "    <tr style=\"text-align: right;\">\n",
       "      <th></th>\n",
       "      <th>Year</th>\n",
       "      <th>Stages</th>\n",
       "      <th>Started</th>\n",
       "      <th>Ended</th>\n",
       "      <th>Distance</th>\n",
       "      <th>Hour</th>\n",
       "      <th>Minutes</th>\n",
       "      <th>Seconds</th>\n",
       "      <th>Pace</th>\n",
       "      <th>Winner</th>\n",
       "      <th>Country</th>\n",
       "      <th>Age</th>\n",
       "    </tr>\n",
       "  </thead>\n",
       "  <tbody>\n",
       "    <tr>\n",
       "      <th>0</th>\n",
       "      <td>1903</td>\n",
       "      <td>6</td>\n",
       "      <td>60</td>\n",
       "      <td>21</td>\n",
       "      <td>2428</td>\n",
       "      <td>94</td>\n",
       "      <td>33</td>\n",
       "      <td>0</td>\n",
       "      <td>25.679</td>\n",
       "      <td>M. Garin</td>\n",
       "      <td>Fra</td>\n",
       "      <td>32</td>\n",
       "    </tr>\n",
       "    <tr>\n",
       "      <th>1</th>\n",
       "      <td>1904</td>\n",
       "      <td>6</td>\n",
       "      <td>88</td>\n",
       "      <td>27</td>\n",
       "      <td>2428</td>\n",
       "      <td>96</td>\n",
       "      <td>5</td>\n",
       "      <td>56</td>\n",
       "      <td>25.265</td>\n",
       "      <td>H. Cornet</td>\n",
       "      <td>Fra</td>\n",
       "      <td>20</td>\n",
       "    </tr>\n",
       "    <tr>\n",
       "      <th>2</th>\n",
       "      <td>1905</td>\n",
       "      <td>11</td>\n",
       "      <td>60</td>\n",
       "      <td>24</td>\n",
       "      <td>2994</td>\n",
       "      <td>110</td>\n",
       "      <td>26</td>\n",
       "      <td>58</td>\n",
       "      <td>27.107</td>\n",
       "      <td>L. Trousselier</td>\n",
       "      <td>Fra</td>\n",
       "      <td>24</td>\n",
       "    </tr>\n",
       "    <tr>\n",
       "      <th>3</th>\n",
       "      <td>1906</td>\n",
       "      <td>13</td>\n",
       "      <td>82</td>\n",
       "      <td>14</td>\n",
       "      <td>4637</td>\n",
       "      <td>189</td>\n",
       "      <td>34</td>\n",
       "      <td>0</td>\n",
       "      <td>24.463</td>\n",
       "      <td>R. Pottier</td>\n",
       "      <td>Fra</td>\n",
       "      <td>27</td>\n",
       "    </tr>\n",
       "    <tr>\n",
       "      <th>4</th>\n",
       "      <td>1907</td>\n",
       "      <td>14</td>\n",
       "      <td>93</td>\n",
       "      <td>33</td>\n",
       "      <td>4488</td>\n",
       "      <td>158</td>\n",
       "      <td>45</td>\n",
       "      <td>5</td>\n",
       "      <td>28.470</td>\n",
       "      <td>L. Petit-Breton</td>\n",
       "      <td>Fra</td>\n",
       "      <td>24</td>\n",
       "    </tr>\n",
       "  </tbody>\n",
       "</table>\n",
       "</div>"
      ],
      "text/plain": [
       "   Year  Stages  Started  Ended  Distance  Hour  Minutes  Seconds    Pace  \\\n",
       "0  1903       6       60     21      2428    94       33        0  25.679   \n",
       "1  1904       6       88     27      2428    96        5       56  25.265   \n",
       "2  1905      11       60     24      2994   110       26       58  27.107   \n",
       "3  1906      13       82     14      4637   189       34        0  24.463   \n",
       "4  1907      14       93     33      4488   158       45        5  28.470   \n",
       "\n",
       "            Winner Country  Age  \n",
       "0         M. Garin     Fra   32  \n",
       "1        H. Cornet     Fra   20  \n",
       "2   L. Trousselier     Fra   24  \n",
       "3       R. Pottier     Fra   27  \n",
       "4  L. Petit-Breton     Fra   24  "
      ]
     },
     "execution_count": 41,
     "metadata": {},
     "output_type": "execute_result"
    }
   ],
   "source": [
    "hist_guide.head()"
   ]
  },
  {
   "cell_type": "markdown",
   "metadata": {},
   "source": [
    "## Typy danych zawarte w pliku 'hist_guide'"
   ]
  },
  {
   "cell_type": "code",
   "execution_count": 42,
   "metadata": {},
   "outputs": [
    {
     "data": {
      "text/plain": [
       "Year          int64\n",
       "Stages        int64\n",
       "Started       int64\n",
       "Ended         int64\n",
       "Distance      int64\n",
       "Hour          int64\n",
       "Minutes       int64\n",
       "Seconds       int64\n",
       "Pace        float64\n",
       "Winner       object\n",
       "Country      object\n",
       "Age           int64\n",
       "dtype: object"
      ]
     },
     "execution_count": 42,
     "metadata": {},
     "output_type": "execute_result"
    }
   ],
   "source": [
    "hist_guide.dtypes"
   ]
  },
  {
   "cell_type": "markdown",
   "metadata": {},
   "source": [
    "## Sprawdzenie wartości Null"
   ]
  },
  {
   "cell_type": "code",
   "execution_count": 43,
   "metadata": {},
   "outputs": [
    {
     "name": "stdout",
     "output_type": "stream",
     "text": [
      "Year        0\n",
      "Stages      0\n",
      "Started     0\n",
      "Ended       0\n",
      "Distance    0\n",
      "Hour        0\n",
      "Minutes     0\n",
      "Seconds     0\n",
      "Pace        0\n",
      "Winner      0\n",
      "Country     0\n",
      "Age         0\n",
      "dtype: int64\n"
     ]
    }
   ],
   "source": [
    "print(hist_guide.isnull().sum().sort_values(ascending = False))"
   ]
  },
  {
   "cell_type": "markdown",
   "metadata": {},
   "source": [
    "## Opis pliku pod względem podstawowych wartości matematycznych"
   ]
  },
  {
   "cell_type": "code",
   "execution_count": 44,
   "metadata": {},
   "outputs": [
    {
     "data": {
      "text/html": [
       "<div>\n",
       "<style scoped>\n",
       "    .dataframe tbody tr th:only-of-type {\n",
       "        vertical-align: middle;\n",
       "    }\n",
       "\n",
       "    .dataframe tbody tr th {\n",
       "        vertical-align: top;\n",
       "    }\n",
       "\n",
       "    .dataframe thead th {\n",
       "        text-align: right;\n",
       "    }\n",
       "</style>\n",
       "<table border=\"1\" class=\"dataframe\">\n",
       "  <thead>\n",
       "    <tr style=\"text-align: right;\">\n",
       "      <th></th>\n",
       "      <th>Year</th>\n",
       "      <th>Stages</th>\n",
       "      <th>Started</th>\n",
       "      <th>Ended</th>\n",
       "      <th>Distance</th>\n",
       "      <th>Hour</th>\n",
       "      <th>Minutes</th>\n",
       "      <th>Seconds</th>\n",
       "      <th>Pace</th>\n",
       "      <th>Age</th>\n",
       "    </tr>\n",
       "  </thead>\n",
       "  <tbody>\n",
       "    <tr>\n",
       "      <th>count</th>\n",
       "      <td>104.000000</td>\n",
       "      <td>104.000000</td>\n",
       "      <td>104.000000</td>\n",
       "      <td>104.000000</td>\n",
       "      <td>104.000000</td>\n",
       "      <td>104.000000</td>\n",
       "      <td>104.000000</td>\n",
       "      <td>104.000000</td>\n",
       "      <td>104.000000</td>\n",
       "      <td>104.000000</td>\n",
       "    </tr>\n",
       "    <tr>\n",
       "      <th>mean</th>\n",
       "      <td>1962.817308</td>\n",
       "      <td>20.076923</td>\n",
       "      <td>142.326923</td>\n",
       "      <td>88.355769</td>\n",
       "      <td>4232.250000</td>\n",
       "      <td>129.115385</td>\n",
       "      <td>29.096154</td>\n",
       "      <td>27.788462</td>\n",
       "      <td>34.128769</td>\n",
       "      <td>28.182692</td>\n",
       "    </tr>\n",
       "    <tr>\n",
       "      <th>std</th>\n",
       "      <td>33.599516</td>\n",
       "      <td>3.468841</td>\n",
       "      <td>40.687166</td>\n",
       "      <td>45.758318</td>\n",
       "      <td>697.503743</td>\n",
       "      <td>41.835626</td>\n",
       "      <td>17.288820</td>\n",
       "      <td>17.327610</td>\n",
       "      <td>5.214692</td>\n",
       "      <td>3.358121</td>\n",
       "    </tr>\n",
       "    <tr>\n",
       "      <th>min</th>\n",
       "      <td>1903.000000</td>\n",
       "      <td>6.000000</td>\n",
       "      <td>60.000000</td>\n",
       "      <td>11.000000</td>\n",
       "      <td>2428.000000</td>\n",
       "      <td>82.000000</td>\n",
       "      <td>0.000000</td>\n",
       "      <td>0.000000</td>\n",
       "      <td>24.056000</td>\n",
       "      <td>20.000000</td>\n",
       "    </tr>\n",
       "    <tr>\n",
       "      <th>25%</th>\n",
       "      <td>1932.750000</td>\n",
       "      <td>20.000000</td>\n",
       "      <td>118.250000</td>\n",
       "      <td>49.000000</td>\n",
       "      <td>3661.250000</td>\n",
       "      <td>94.750000</td>\n",
       "      <td>14.500000</td>\n",
       "      <td>14.000000</td>\n",
       "      <td>29.638250</td>\n",
       "      <td>26.000000</td>\n",
       "    </tr>\n",
       "    <tr>\n",
       "      <th>50%</th>\n",
       "      <td>1965.500000</td>\n",
       "      <td>21.000000</td>\n",
       "      <td>132.000000</td>\n",
       "      <td>81.500000</td>\n",
       "      <td>4180.500000</td>\n",
       "      <td>116.000000</td>\n",
       "      <td>30.000000</td>\n",
       "      <td>27.000000</td>\n",
       "      <td>35.419000</td>\n",
       "      <td>28.000000</td>\n",
       "    </tr>\n",
       "    <tr>\n",
       "      <th>75%</th>\n",
       "      <td>1991.250000</td>\n",
       "      <td>22.000000</td>\n",
       "      <td>182.000000</td>\n",
       "      <td>132.750000</td>\n",
       "      <td>4659.250000</td>\n",
       "      <td>148.000000</td>\n",
       "      <td>44.000000</td>\n",
       "      <td>42.000000</td>\n",
       "      <td>38.787500</td>\n",
       "      <td>30.000000</td>\n",
       "    </tr>\n",
       "    <tr>\n",
       "      <th>max</th>\n",
       "      <td>2017.000000</td>\n",
       "      <td>25.000000</td>\n",
       "      <td>210.000000</td>\n",
       "      <td>174.000000</td>\n",
       "      <td>5745.000000</td>\n",
       "      <td>238.000000</td>\n",
       "      <td>59.000000</td>\n",
       "      <td>59.000000</td>\n",
       "      <td>41.654000</td>\n",
       "      <td>36.000000</td>\n",
       "    </tr>\n",
       "  </tbody>\n",
       "</table>\n",
       "</div>"
      ],
      "text/plain": [
       "              Year      Stages     Started       Ended     Distance  \\\n",
       "count   104.000000  104.000000  104.000000  104.000000   104.000000   \n",
       "mean   1962.817308   20.076923  142.326923   88.355769  4232.250000   \n",
       "std      33.599516    3.468841   40.687166   45.758318   697.503743   \n",
       "min    1903.000000    6.000000   60.000000   11.000000  2428.000000   \n",
       "25%    1932.750000   20.000000  118.250000   49.000000  3661.250000   \n",
       "50%    1965.500000   21.000000  132.000000   81.500000  4180.500000   \n",
       "75%    1991.250000   22.000000  182.000000  132.750000  4659.250000   \n",
       "max    2017.000000   25.000000  210.000000  174.000000  5745.000000   \n",
       "\n",
       "             Hour     Minutes     Seconds        Pace         Age  \n",
       "count  104.000000  104.000000  104.000000  104.000000  104.000000  \n",
       "mean   129.115385   29.096154   27.788462   34.128769   28.182692  \n",
       "std     41.835626   17.288820   17.327610    5.214692    3.358121  \n",
       "min     82.000000    0.000000    0.000000   24.056000   20.000000  \n",
       "25%     94.750000   14.500000   14.000000   29.638250   26.000000  \n",
       "50%    116.000000   30.000000   27.000000   35.419000   28.000000  \n",
       "75%    148.000000   44.000000   42.000000   38.787500   30.000000  \n",
       "max    238.000000   59.000000   59.000000   41.654000   36.000000  "
      ]
     },
     "execution_count": 44,
     "metadata": {},
     "output_type": "execute_result"
    }
   ],
   "source": [
    "hist_guide.describe()"
   ]
  },
  {
   "cell_type": "markdown",
   "metadata": {},
   "source": [
    "## Standaryzajca danych pod kątem kreślenia wykresu obrazującego zmianę średniego tempa wyścigu oraz jego dystansu"
   ]
  },
  {
   "cell_type": "code",
   "execution_count": 45,
   "metadata": {},
   "outputs": [
    {
     "data": {
      "text/html": [
       "<div>\n",
       "<style scoped>\n",
       "    .dataframe tbody tr th:only-of-type {\n",
       "        vertical-align: middle;\n",
       "    }\n",
       "\n",
       "    .dataframe tbody tr th {\n",
       "        vertical-align: top;\n",
       "    }\n",
       "\n",
       "    .dataframe thead th {\n",
       "        text-align: right;\n",
       "    }\n",
       "</style>\n",
       "<table border=\"1\" class=\"dataframe\">\n",
       "  <thead>\n",
       "    <tr style=\"text-align: right;\">\n",
       "      <th></th>\n",
       "      <th>Year</th>\n",
       "      <th>Stages</th>\n",
       "      <th>Started</th>\n",
       "      <th>Ended</th>\n",
       "      <th>Distance</th>\n",
       "      <th>Hour</th>\n",
       "      <th>Minutes</th>\n",
       "      <th>Seconds</th>\n",
       "      <th>Pace</th>\n",
       "      <th>Winner</th>\n",
       "      <th>Country</th>\n",
       "      <th>Age</th>\n",
       "    </tr>\n",
       "  </thead>\n",
       "  <tbody>\n",
       "    <tr>\n",
       "      <th>0</th>\n",
       "      <td>1903</td>\n",
       "      <td>6</td>\n",
       "      <td>60</td>\n",
       "      <td>21</td>\n",
       "      <td>0.422628</td>\n",
       "      <td>94</td>\n",
       "      <td>33</td>\n",
       "      <td>0</td>\n",
       "      <td>0.616483</td>\n",
       "      <td>M. Garin</td>\n",
       "      <td>Fra</td>\n",
       "      <td>32</td>\n",
       "    </tr>\n",
       "    <tr>\n",
       "      <th>1</th>\n",
       "      <td>1904</td>\n",
       "      <td>6</td>\n",
       "      <td>88</td>\n",
       "      <td>27</td>\n",
       "      <td>0.422628</td>\n",
       "      <td>96</td>\n",
       "      <td>5</td>\n",
       "      <td>56</td>\n",
       "      <td>0.606544</td>\n",
       "      <td>H. Cornet</td>\n",
       "      <td>Fra</td>\n",
       "      <td>20</td>\n",
       "    </tr>\n",
       "    <tr>\n",
       "      <th>2</th>\n",
       "      <td>1905</td>\n",
       "      <td>11</td>\n",
       "      <td>60</td>\n",
       "      <td>24</td>\n",
       "      <td>0.521149</td>\n",
       "      <td>110</td>\n",
       "      <td>26</td>\n",
       "      <td>58</td>\n",
       "      <td>0.650766</td>\n",
       "      <td>L. Trousselier</td>\n",
       "      <td>Fra</td>\n",
       "      <td>24</td>\n",
       "    </tr>\n",
       "    <tr>\n",
       "      <th>3</th>\n",
       "      <td>1906</td>\n",
       "      <td>13</td>\n",
       "      <td>82</td>\n",
       "      <td>14</td>\n",
       "      <td>0.807137</td>\n",
       "      <td>189</td>\n",
       "      <td>34</td>\n",
       "      <td>0</td>\n",
       "      <td>0.587291</td>\n",
       "      <td>R. Pottier</td>\n",
       "      <td>Fra</td>\n",
       "      <td>27</td>\n",
       "    </tr>\n",
       "    <tr>\n",
       "      <th>4</th>\n",
       "      <td>1907</td>\n",
       "      <td>14</td>\n",
       "      <td>93</td>\n",
       "      <td>33</td>\n",
       "      <td>0.781201</td>\n",
       "      <td>158</td>\n",
       "      <td>45</td>\n",
       "      <td>5</td>\n",
       "      <td>0.683488</td>\n",
       "      <td>L. Petit-Breton</td>\n",
       "      <td>Fra</td>\n",
       "      <td>24</td>\n",
       "    </tr>\n",
       "    <tr>\n",
       "      <th>...</th>\n",
       "      <td>...</td>\n",
       "      <td>...</td>\n",
       "      <td>...</td>\n",
       "      <td>...</td>\n",
       "      <td>...</td>\n",
       "      <td>...</td>\n",
       "      <td>...</td>\n",
       "      <td>...</td>\n",
       "      <td>...</td>\n",
       "      <td>...</td>\n",
       "      <td>...</td>\n",
       "      <td>...</td>\n",
       "    </tr>\n",
       "    <tr>\n",
       "      <th>99</th>\n",
       "      <td>2013</td>\n",
       "      <td>21</td>\n",
       "      <td>198</td>\n",
       "      <td>169</td>\n",
       "      <td>0.592515</td>\n",
       "      <td>83</td>\n",
       "      <td>56</td>\n",
       "      <td>40</td>\n",
       "      <td>0.973304</td>\n",
       "      <td>C. Froome</td>\n",
       "      <td>Gbr</td>\n",
       "      <td>28</td>\n",
       "    </tr>\n",
       "    <tr>\n",
       "      <th>100</th>\n",
       "      <td>2014</td>\n",
       "      <td>21</td>\n",
       "      <td>198</td>\n",
       "      <td>164</td>\n",
       "      <td>0.636902</td>\n",
       "      <td>89</td>\n",
       "      <td>59</td>\n",
       "      <td>6</td>\n",
       "      <td>0.976185</td>\n",
       "      <td>V. Nibali</td>\n",
       "      <td>Ita</td>\n",
       "      <td>29</td>\n",
       "    </tr>\n",
       "    <tr>\n",
       "      <th>101</th>\n",
       "      <td>2015</td>\n",
       "      <td>21</td>\n",
       "      <td>198</td>\n",
       "      <td>160</td>\n",
       "      <td>0.583812</td>\n",
       "      <td>84</td>\n",
       "      <td>46</td>\n",
       "      <td>14</td>\n",
       "      <td>0.949897</td>\n",
       "      <td>C. Froome</td>\n",
       "      <td>Gbr</td>\n",
       "      <td>30</td>\n",
       "    </tr>\n",
       "    <tr>\n",
       "      <th>102</th>\n",
       "      <td>2016</td>\n",
       "      <td>21</td>\n",
       "      <td>198</td>\n",
       "      <td>174</td>\n",
       "      <td>0.614273</td>\n",
       "      <td>89</td>\n",
       "      <td>4</td>\n",
       "      <td>48</td>\n",
       "      <td>0.949993</td>\n",
       "      <td>C. Froome</td>\n",
       "      <td>Gbr</td>\n",
       "      <td>31</td>\n",
       "    </tr>\n",
       "    <tr>\n",
       "      <th>103</th>\n",
       "      <td>2017</td>\n",
       "      <td>21</td>\n",
       "      <td>198</td>\n",
       "      <td>167</td>\n",
       "      <td>0.616188</td>\n",
       "      <td>86</td>\n",
       "      <td>20</td>\n",
       "      <td>55</td>\n",
       "      <td>0.984179</td>\n",
       "      <td>C. Froome</td>\n",
       "      <td>Gbr</td>\n",
       "      <td>32</td>\n",
       "    </tr>\n",
       "  </tbody>\n",
       "</table>\n",
       "<p>104 rows × 12 columns</p>\n",
       "</div>"
      ],
      "text/plain": [
       "     Year  Stages  Started  Ended  Distance  Hour  Minutes  Seconds      Pace  \\\n",
       "0    1903       6       60     21  0.422628    94       33        0  0.616483   \n",
       "1    1904       6       88     27  0.422628    96        5       56  0.606544   \n",
       "2    1905      11       60     24  0.521149   110       26       58  0.650766   \n",
       "3    1906      13       82     14  0.807137   189       34        0  0.587291   \n",
       "4    1907      14       93     33  0.781201   158       45        5  0.683488   \n",
       "..    ...     ...      ...    ...       ...   ...      ...      ...       ...   \n",
       "99   2013      21      198    169  0.592515    83       56       40  0.973304   \n",
       "100  2014      21      198    164  0.636902    89       59        6  0.976185   \n",
       "101  2015      21      198    160  0.583812    84       46       14  0.949897   \n",
       "102  2016      21      198    174  0.614273    89        4       48  0.949993   \n",
       "103  2017      21      198    167  0.616188    86       20       55  0.984179   \n",
       "\n",
       "              Winner Country  Age  \n",
       "0           M. Garin     Fra   32  \n",
       "1          H. Cornet     Fra   20  \n",
       "2     L. Trousselier     Fra   24  \n",
       "3         R. Pottier     Fra   27  \n",
       "4    L. Petit-Breton     Fra   24  \n",
       "..               ...     ...  ...  \n",
       "99         C. Froome     Gbr   28  \n",
       "100        V. Nibali     Ita   29  \n",
       "101        C. Froome     Gbr   30  \n",
       "102        C. Froome     Gbr   31  \n",
       "103        C. Froome     Gbr   32  \n",
       "\n",
       "[104 rows x 12 columns]"
      ]
     },
     "metadata": {},
     "output_type": "display_data"
    }
   ],
   "source": [
    "# przypisanie zbioru do zmiennej\n",
    "df_max_scaled = hist_guide.copy()\n",
    "  \n",
    "# normalizacja danych w poszczególnych kolumnach\n",
    "df_max_scaled['Pace'] = df_max_scaled['Pace'] / df_max_scaled['Pace'].abs().max()\n",
    "df_max_scaled['Distance'] = df_max_scaled['Distance'] / df_max_scaled['Distance'].abs().max()\n",
    "  \n",
    "# wyświetlenie znormalizowanych dancyh\n",
    "display(df_max_scaled)"
   ]
  },
  {
   "cell_type": "code",
   "execution_count": 46,
   "metadata": {},
   "outputs": [
    {
     "data": {
      "image/png": "[encoded data removed]",
      "text/plain": [
       "<Figure size 432x288 with 1 Axes>"
      ]
     },
     "metadata": {
      "needs_background": "light"
     },
     "output_type": "display_data"
    }
   ],
   "source": [
    "# Wykres dystansu i średniego tempa (dane znormalizowane)\n",
    "plt.plot(df_max_scaled.Year, df_max_scaled.Distance)\n",
    "plt.plot(df_max_scaled.Year, df_max_scaled.Pace)\n",
    "plt.legend(['Dystans', 'Tempo'], fontsize = 12)\n",
    "plt.xlabel('Edycja', fontsize = 12)\n",
    "plt.ylabel('Dystans & średnie tempo', fontsize = 12)\n",
    "plt.show()"
   ]
  },
  {
   "cell_type": "code",
   "execution_count": 47,
   "metadata": {},
   "outputs": [
    {
     "data": {
      "text/plain": [
       "Text(0, 0.5, 'Wiek')"
      ]
     },
     "execution_count": 47,
     "metadata": {},
     "output_type": "execute_result"
    },
    {
     "data": {
      "image/png": "[encoded data removed]",
      "text/plain": [
       "<Figure size 1008x360 with 1 Axes>"
      ]
     },
     "metadata": {
      "needs_background": "light"
     },
     "output_type": "display_data"
    }
   ],
   "source": [
    "# Wykres ramka wąsy ze względu na narodowość i wiek zwyciezców \n",
    "fig, ax = plt.subplots()\n",
    "fig.set_size_inches(14, 5)\n",
    "\n",
    "ax = sns.boxplot(x = 'Country', y = 'Age', data = hist_guide)\n",
    "plt.xticks(rotation = 65, fontsize = 12)\n",
    "plt.title('Wykres ramka - wąsy; wiek i narodowość kolarzy', fontsize = 15)\n",
    "plt.xlabel('Państwo', fontsize = 12)\n",
    "plt.ylabel('Wiek', fontsize = 12)"
   ]
  },
  {
   "cell_type": "code",
   "execution_count": 48,
   "metadata": {},
   "outputs": [
    {
     "data": {
      "text/plain": [
       "Text(0, 0.5, 'Długość [h]')"
      ]
     },
     "execution_count": 48,
     "metadata": {},
     "output_type": "execute_result"
    },
    {
     "data": {
      "image/png": "[encoded data removed]",
      "text/plain": [
       "<Figure size 792x504 with 1 Axes>"
      ]
     },
     "metadata": {
      "needs_background": "light"
     },
     "output_type": "display_data"
    }
   ],
   "source": [
    "data = hist_guide\n",
    "fig, scatter = plt.subplots(figsize = (11,7))\n",
    "scatter = sns.scatterplot(x = 'Year', y ='Hour', data=hist_guide)\n",
    "scatter.set_title('Długość wyścigu w poszczególnych edycjach', fontsize = 15)\n",
    "scatter.set_xlabel('Edycja', fontsize = 12)\n",
    "scatter.set_ylabel ('Długość [h]', fontsize = 12)"
   ]
  },
  {
   "cell_type": "markdown",
   "metadata": {},
   "source": [
    "## Korelajca pomiędzy edycajmi a długością wyścigu"
   ]
  },
  {
   "cell_type": "code",
   "execution_count": 49,
   "metadata": {
    "scrolled": false
   },
   "outputs": [
    {
     "name": "stdout",
     "output_type": "stream",
     "text": [
      "          Year      Hour\n",
      "Year  1.000000 -0.806794\n",
      "Hour -0.806794  1.000000\n"
     ]
    }
   ],
   "source": [
    "print(hist_guide[['Year','Hour']].corr())"
   ]
  },
  {
   "cell_type": "markdown",
   "metadata": {},
   "source": [
    "Korelacja przyjmuje wartość ujemną (bliską -1, co wskazuje na istotność tej korelacji), co ozancza, że wrost jednej zmiennej powoduje spadek drugiej zmiennej."
   ]
  },
  {
   "cell_type": "markdown",
   "metadata": {},
   "source": [
    "## Korelacja pomiędzy długością wyścigu a jego tempem"
   ]
  },
  {
   "cell_type": "code",
   "execution_count": 50,
   "metadata": {
    "scrolled": true
   },
   "outputs": [
    {
     "name": "stdout",
     "output_type": "stream",
     "text": [
      "          Distance      Hour\n",
      "Distance  1.000000  0.920166\n",
      "Hour      0.920166  1.000000\n"
     ]
    }
   ],
   "source": [
    "print(hist_guide[['Distance','Hour']].corr())"
   ]
  },
  {
   "cell_type": "markdown",
   "metadata": {},
   "source": [
    "Korelacja przyjmuje wartość dodatnią bliską 1, co oznacza, że obie wartości wzrastają w miarę porporcjonalnie"
   ]
  },
  {
   "cell_type": "markdown",
   "metadata": {},
   "source": [
    "# Analiza pliku 'tdf_stages'"
   ]
  },
  {
   "cell_type": "code",
   "execution_count": 51,
   "metadata": {
    "scrolled": false
   },
   "outputs": [
    {
     "data": {
      "text/html": [
       "<div>\n",
       "<style scoped>\n",
       "    .dataframe tbody tr th:only-of-type {\n",
       "        vertical-align: middle;\n",
       "    }\n",
       "\n",
       "    .dataframe tbody tr th {\n",
       "        vertical-align: top;\n",
       "    }\n",
       "\n",
       "    .dataframe thead th {\n",
       "        text-align: right;\n",
       "    }\n",
       "</style>\n",
       "<table border=\"1\" class=\"dataframe\">\n",
       "  <thead>\n",
       "    <tr style=\"text-align: right;\">\n",
       "      <th></th>\n",
       "      <th>Stage</th>\n",
       "      <th>Date</th>\n",
       "      <th>Distance</th>\n",
       "      <th>Origin</th>\n",
       "      <th>Destination</th>\n",
       "      <th>Type</th>\n",
       "      <th>Winner</th>\n",
       "      <th>Winner_Country</th>\n",
       "    </tr>\n",
       "  </thead>\n",
       "  <tbody>\n",
       "    <tr>\n",
       "      <th>0</th>\n",
       "      <td>1</td>\n",
       "      <td>2017-07-01</td>\n",
       "      <td>14.0</td>\n",
       "      <td>Düsseldorf</td>\n",
       "      <td>Düsseldorf</td>\n",
       "      <td>Individual time trial</td>\n",
       "      <td>Geraint Thomas</td>\n",
       "      <td>GBR</td>\n",
       "    </tr>\n",
       "    <tr>\n",
       "      <th>1</th>\n",
       "      <td>2</td>\n",
       "      <td>2017-07-02</td>\n",
       "      <td>203.5</td>\n",
       "      <td>Düsseldorf</td>\n",
       "      <td>Liège</td>\n",
       "      <td>Flat stage</td>\n",
       "      <td>Marcel Kittel</td>\n",
       "      <td>GER</td>\n",
       "    </tr>\n",
       "    <tr>\n",
       "      <th>2</th>\n",
       "      <td>3</td>\n",
       "      <td>2017-07-03</td>\n",
       "      <td>212.5</td>\n",
       "      <td>Verviers</td>\n",
       "      <td>Longwy</td>\n",
       "      <td>Medium mountain stage</td>\n",
       "      <td>Peter Sagan</td>\n",
       "      <td>SVK</td>\n",
       "    </tr>\n",
       "    <tr>\n",
       "      <th>3</th>\n",
       "      <td>4</td>\n",
       "      <td>2017-07-04</td>\n",
       "      <td>207.5</td>\n",
       "      <td>Mondorf-les-Bains</td>\n",
       "      <td>Vittel</td>\n",
       "      <td>Flat stage</td>\n",
       "      <td>Arnaud Démare</td>\n",
       "      <td>FRA</td>\n",
       "    </tr>\n",
       "    <tr>\n",
       "      <th>4</th>\n",
       "      <td>5</td>\n",
       "      <td>2017-07-05</td>\n",
       "      <td>160.5</td>\n",
       "      <td>Vittel</td>\n",
       "      <td>La Planche des Belles Filles</td>\n",
       "      <td>Medium mountain stage</td>\n",
       "      <td>Fabio Aru</td>\n",
       "      <td>ITA</td>\n",
       "    </tr>\n",
       "  </tbody>\n",
       "</table>\n",
       "</div>"
      ],
      "text/plain": [
       "  Stage        Date  Distance             Origin  \\\n",
       "0     1  2017-07-01      14.0         Düsseldorf   \n",
       "1     2  2017-07-02     203.5         Düsseldorf   \n",
       "2     3  2017-07-03     212.5           Verviers   \n",
       "3     4  2017-07-04     207.5  Mondorf-les-Bains   \n",
       "4     5  2017-07-05     160.5             Vittel   \n",
       "\n",
       "                    Destination                   Type          Winner  \\\n",
       "0                    Düsseldorf  Individual time trial  Geraint Thomas   \n",
       "1                         Liège             Flat stage   Marcel Kittel   \n",
       "2                        Longwy  Medium mountain stage     Peter Sagan   \n",
       "3                        Vittel             Flat stage   Arnaud Démare   \n",
       "4  La Planche des Belles Filles  Medium mountain stage       Fabio Aru   \n",
       "\n",
       "  Winner_Country  \n",
       "0            GBR  \n",
       "1            GER  \n",
       "2            SVK  \n",
       "3            FRA  \n",
       "4            ITA  "
      ]
     },
     "execution_count": 51,
     "metadata": {},
     "output_type": "execute_result"
    }
   ],
   "source": [
    "tdf_stages.head()"
   ]
  },
  {
   "cell_type": "code",
   "execution_count": 52,
   "metadata": {
    "scrolled": false
   },
   "outputs": [
    {
     "data": {
      "text/plain": [
       "Type\n",
       "Plain stage                      1053\n",
       "Stage with mountain(s)            530\n",
       "Individual time trial             205\n",
       "Flat stage                        110\n",
       "Team time trial                    87\n",
       "Hilly stage                        76\n",
       "High mountain stage                43\n",
       "Mountain stage                     40\n",
       "Medium mountain stage              33\n",
       "Mountain time trial                13\n",
       "Mountain Stage                     11\n",
       "Stage with mountain                11\n",
       "Flat Stage                          9\n",
       "Half Stage                          5\n",
       "Transition stage                    4\n",
       "Intermediate stage                  3\n",
       "Flat cobblestone stage              2\n",
       "Plain stage with cobblestones       1\n",
       "dtype: int64"
      ]
     },
     "execution_count": 52,
     "metadata": {},
     "output_type": "execute_result"
    }
   ],
   "source": [
    "tdf_stages.groupby(['Type']).size().sort_values(ascending = False)"
   ]
  },
  {
   "cell_type": "markdown",
   "metadata": {},
   "source": [
    "# Wykorzystanie jezyka zapytań SQL do analizy danych"
   ]
  },
  {
   "cell_type": "code",
   "execution_count": 53,
   "metadata": {},
   "outputs": [],
   "source": [
    "%load_ext sql"
   ]
  },
  {
   "cell_type": "code",
   "execution_count": 54,
   "metadata": {},
   "outputs": [],
   "source": [
    "%sql sqlite://"
   ]
  },
  {
   "cell_type": "code",
   "execution_count": 55,
   "metadata": {
    "scrolled": true
   },
   "outputs": [
    {
     "name": "stdout",
     "output_type": "stream",
     "text": [
      " * sqlite://\n"
     ]
    },
    {
     "data": {
      "text/plain": [
       "'Persisted tdf_stages'"
      ]
     },
     "execution_count": 55,
     "metadata": {},
     "output_type": "execute_result"
    }
   ],
   "source": [
    "%sql --persist tdf_stages"
   ]
  },
  {
   "cell_type": "code",
   "execution_count": 56,
   "metadata": {},
   "outputs": [
    {
     "name": "stdout",
     "output_type": "stream",
     "text": [
      " * sqlite://\n",
      "(sqlite3.OperationalError) near \"persist\": syntax error\n",
      "[SQL: persist tdf_winners]\n",
      "(Background on this error at: http://sqlalche.me/e/14/e3q8)\n"
     ]
    }
   ],
   "source": [
    "%sql -- persist tdf_winners"
   ]
  },
  {
   "cell_type": "code",
   "execution_count": 57,
   "metadata": {},
   "outputs": [
    {
     "name": "stdout",
     "output_type": "stream",
     "text": [
      " * sqlite://\n"
     ]
    },
    {
     "data": {
      "text/plain": [
       "'Persisted hist_guide'"
      ]
     },
     "execution_count": 57,
     "metadata": {},
     "output_type": "execute_result"
    }
   ],
   "source": [
    "%sql --persist hist_guide"
   ]
  },
  {
   "cell_type": "code",
   "execution_count": 58,
   "metadata": {},
   "outputs": [
    {
     "name": "stdout",
     "output_type": "stream",
     "text": [
      " * sqlite://\n",
      "Done.\n"
     ]
    },
    {
     "data": {
      "text/html": [
       "<table>\n",
       "    <tr>\n",
       "        <th>Type</th>\n",
       "        <th>count(Type)</th>\n",
       "        <th>Winner_Country</th>\n",
       "    </tr>\n",
       "    <tr>\n",
       "        <td>Plain stage</td>\n",
       "        <td>1</td>\n",
       "        <td>None</td>\n",
       "    </tr>\n",
       "    <tr>\n",
       "        <td>Stage with mountain(s)</td>\n",
       "        <td>3</td>\n",
       "        <td>None</td>\n",
       "    </tr>\n",
       "    <tr>\n",
       "        <td>Team time trial</td>\n",
       "        <td>48</td>\n",
       "        <td>None</td>\n",
       "    </tr>\n",
       "    <tr>\n",
       "        <td>Flat stage</td>\n",
       "        <td>5</td>\n",
       "        <td>AUS</td>\n",
       "    </tr>\n",
       "    <tr>\n",
       "        <td>High mountain stage</td>\n",
       "        <td>1</td>\n",
       "        <td>AUS</td>\n",
       "    </tr>\n",
       "    <tr>\n",
       "        <td>Hilly stage</td>\n",
       "        <td>1</td>\n",
       "        <td>AUS</td>\n",
       "    </tr>\n",
       "    <tr>\n",
       "        <td>Individual time trial</td>\n",
       "        <td>3</td>\n",
       "        <td>AUS</td>\n",
       "    </tr>\n",
       "    <tr>\n",
       "        <td>Medium mountain stage</td>\n",
       "        <td>4</td>\n",
       "        <td>AUS</td>\n",
       "    </tr>\n",
       "    <tr>\n",
       "        <td>Mountain stage</td>\n",
       "        <td>1</td>\n",
       "        <td>AUS</td>\n",
       "    </tr>\n",
       "    <tr>\n",
       "        <td>Plain stage</td>\n",
       "        <td>14</td>\n",
       "        <td>AUS</td>\n",
       "    </tr>\n",
       "    <tr>\n",
       "        <td>Mountain stage</td>\n",
       "        <td>1</td>\n",
       "        <td>AUT</td>\n",
       "    </tr>\n",
       "    <tr>\n",
       "        <td>Plain stage</td>\n",
       "        <td>2</td>\n",
       "        <td>AUT</td>\n",
       "    </tr>\n",
       "    <tr>\n",
       "        <td>Stage with mountain(s)</td>\n",
       "        <td>1</td>\n",
       "        <td>AUT</td>\n",
       "    </tr>\n",
       "    <tr>\n",
       "        <td>Flat Stage</td>\n",
       "        <td>4</td>\n",
       "        <td>BEL</td>\n",
       "    </tr>\n",
       "    <tr>\n",
       "        <td>Flat stage</td>\n",
       "        <td>2</td>\n",
       "        <td>BEL</td>\n",
       "    </tr>\n",
       "    <tr>\n",
       "        <td>Half Stage</td>\n",
       "        <td>2</td>\n",
       "        <td>BEL</td>\n",
       "    </tr>\n",
       "    <tr>\n",
       "        <td>High mountain stage</td>\n",
       "        <td>2</td>\n",
       "        <td>BEL</td>\n",
       "    </tr>\n",
       "    <tr>\n",
       "        <td>Hilly stage</td>\n",
       "        <td>12</td>\n",
       "        <td>BEL</td>\n",
       "    </tr>\n",
       "    <tr>\n",
       "        <td>Individual time trial</td>\n",
       "        <td>37</td>\n",
       "        <td>BEL</td>\n",
       "    </tr>\n",
       "    <tr>\n",
       "        <td>Intermediate stage</td>\n",
       "        <td>1</td>\n",
       "        <td>BEL</td>\n",
       "    </tr>\n",
       "    <tr>\n",
       "        <td>Medium mountain stage</td>\n",
       "        <td>3</td>\n",
       "        <td>BEL</td>\n",
       "    </tr>\n",
       "    <tr>\n",
       "        <td>Mountain Stage</td>\n",
       "        <td>2</td>\n",
       "        <td>BEL</td>\n",
       "    </tr>\n",
       "    <tr>\n",
       "        <td>Mountain time trial</td>\n",
       "        <td>1</td>\n",
       "        <td>BEL</td>\n",
       "    </tr>\n",
       "    <tr>\n",
       "        <td>Plain stage</td>\n",
       "        <td>266</td>\n",
       "        <td>BEL</td>\n",
       "    </tr>\n",
       "    <tr>\n",
       "        <td>Stage with mountain</td>\n",
       "        <td>5</td>\n",
       "        <td>BEL</td>\n",
       "    </tr>\n",
       "    <tr>\n",
       "        <td>Stage with mountain(s)</td>\n",
       "        <td>105</td>\n",
       "        <td>BEL</td>\n",
       "    </tr>\n",
       "    <tr>\n",
       "        <td>Team time trial</td>\n",
       "        <td>18</td>\n",
       "        <td>BEL</td>\n",
       "    </tr>\n",
       "    <tr>\n",
       "        <td>Plain stage</td>\n",
       "        <td>1</td>\n",
       "        <td>BRA</td>\n",
       "    </tr>\n",
       "    <tr>\n",
       "        <td>Plain stage</td>\n",
       "        <td>1</td>\n",
       "        <td>CAN</td>\n",
       "    </tr>\n",
       "    <tr>\n",
       "        <td>High mountain stage</td>\n",
       "        <td>3</td>\n",
       "        <td>COL</td>\n",
       "    </tr>\n",
       "    <tr>\n",
       "        <td>Hilly stage</td>\n",
       "        <td>3</td>\n",
       "        <td>COL</td>\n",
       "    </tr>\n",
       "    <tr>\n",
       "        <td>Individual time trial</td>\n",
       "        <td>1</td>\n",
       "        <td>COL</td>\n",
       "    </tr>\n",
       "    <tr>\n",
       "        <td>Mountain stage</td>\n",
       "        <td>1</td>\n",
       "        <td>COL</td>\n",
       "    </tr>\n",
       "    <tr>\n",
       "        <td>Stage with mountain(s)</td>\n",
       "        <td>8</td>\n",
       "        <td>COL</td>\n",
       "    </tr>\n",
       "    <tr>\n",
       "        <td>Flat stage</td>\n",
       "        <td>1</td>\n",
       "        <td>CZE</td>\n",
       "    </tr>\n",
       "    <tr>\n",
       "        <td>Plain stage</td>\n",
       "        <td>2</td>\n",
       "        <td>CZE</td>\n",
       "    </tr>\n",
       "    <tr>\n",
       "        <td>Flat stage</td>\n",
       "        <td>1</td>\n",
       "        <td>DEN</td>\n",
       "    </tr>\n",
       "    <tr>\n",
       "        <td>Hilly stage</td>\n",
       "        <td>4</td>\n",
       "        <td>DEN</td>\n",
       "    </tr>\n",
       "    <tr>\n",
       "        <td>Mountain stage</td>\n",
       "        <td>3</td>\n",
       "        <td>DEN</td>\n",
       "    </tr>\n",
       "    <tr>\n",
       "        <td>Plain stage</td>\n",
       "        <td>7</td>\n",
       "        <td>DEN</td>\n",
       "    </tr>\n",
       "    <tr>\n",
       "        <td>Stage with mountain(s)</td>\n",
       "        <td>3</td>\n",
       "        <td>DEN</td>\n",
       "    </tr>\n",
       "    <tr>\n",
       "        <td>Flat stage</td>\n",
       "        <td>5</td>\n",
       "        <td>ESP</td>\n",
       "    </tr>\n",
       "    <tr>\n",
       "        <td>Half Stage</td>\n",
       "        <td>1</td>\n",
       "        <td>ESP</td>\n",
       "    </tr>\n",
       "    <tr>\n",
       "        <td>High mountain stage</td>\n",
       "        <td>5</td>\n",
       "        <td>ESP</td>\n",
       "    </tr>\n",
       "    <tr>\n",
       "        <td>Hilly stage</td>\n",
       "        <td>6</td>\n",
       "        <td>ESP</td>\n",
       "    </tr>\n",
       "    <tr>\n",
       "        <td>Individual time trial</td>\n",
       "        <td>19</td>\n",
       "        <td>ESP</td>\n",
       "    </tr>\n",
       "    <tr>\n",
       "        <td>Medium mountain stage</td>\n",
       "        <td>3</td>\n",
       "        <td>ESP</td>\n",
       "    </tr>\n",
       "    <tr>\n",
       "        <td>Mountain Stage</td>\n",
       "        <td>2</td>\n",
       "        <td>ESP</td>\n",
       "    </tr>\n",
       "    <tr>\n",
       "        <td>Mountain stage</td>\n",
       "        <td>9</td>\n",
       "        <td>ESP</td>\n",
       "    </tr>\n",
       "    <tr>\n",
       "        <td>Mountain time trial</td>\n",
       "        <td>3</td>\n",
       "        <td>ESP</td>\n",
       "    </tr>\n",
       "    <tr>\n",
       "        <td>Plain stage</td>\n",
       "        <td>17</td>\n",
       "        <td>ESP</td>\n",
       "    </tr>\n",
       "    <tr>\n",
       "        <td>Stage with mountain(s)</td>\n",
       "        <td>53</td>\n",
       "        <td>ESP</td>\n",
       "    </tr>\n",
       "    <tr>\n",
       "        <td>Transition stage</td>\n",
       "        <td>2</td>\n",
       "        <td>ESP</td>\n",
       "    </tr>\n",
       "    <tr>\n",
       "        <td>Plain stage</td>\n",
       "        <td>4</td>\n",
       "        <td>EST</td>\n",
       "    </tr>\n",
       "    <tr>\n",
       "        <td>Flat Stage</td>\n",
       "        <td>2</td>\n",
       "        <td>FRA</td>\n",
       "    </tr>\n",
       "    <tr>\n",
       "        <td>Flat stage</td>\n",
       "        <td>10</td>\n",
       "        <td>FRA</td>\n",
       "    </tr>\n",
       "    <tr>\n",
       "        <td>High mountain stage</td>\n",
       "        <td>11</td>\n",
       "        <td>FRA</td>\n",
       "    </tr>\n",
       "    <tr>\n",
       "        <td>Hilly stage</td>\n",
       "        <td>20</td>\n",
       "        <td>FRA</td>\n",
       "    </tr>\n",
       "    <tr>\n",
       "        <td>Individual time trial</td>\n",
       "        <td>58</td>\n",
       "        <td>FRA</td>\n",
       "    </tr>\n",
       "    <tr>\n",
       "        <td>Medium mountain stage</td>\n",
       "        <td>5</td>\n",
       "        <td>FRA</td>\n",
       "    </tr>\n",
       "    <tr>\n",
       "        <td>Mountain Stage</td>\n",
       "        <td>2</td>\n",
       "        <td>FRA</td>\n",
       "    </tr>\n",
       "    <tr>\n",
       "        <td>Mountain stage</td>\n",
       "        <td>9</td>\n",
       "        <td>FRA</td>\n",
       "    </tr>\n",
       "    <tr>\n",
       "        <td>Mountain time trial</td>\n",
       "        <td>1</td>\n",
       "        <td>FRA</td>\n",
       "    </tr>\n",
       "    <tr>\n",
       "        <td>Plain stage</td>\n",
       "        <td>369</td>\n",
       "        <td>FRA</td>\n",
       "    </tr>\n",
       "    <tr>\n",
       "        <td>Stage with mountain</td>\n",
       "        <td>5</td>\n",
       "        <td>FRA</td>\n",
       "    </tr>\n",
       "    <tr>\n",
       "        <td>Stage with mountain(s)</td>\n",
       "        <td>184</td>\n",
       "        <td>FRA</td>\n",
       "    </tr>\n",
       "    <tr>\n",
       "        <td>Team time trial</td>\n",
       "        <td>15</td>\n",
       "        <td>FRA</td>\n",
       "    </tr>\n",
       "    <tr>\n",
       "        <td>Individual time trial</td>\n",
       "        <td>4</td>\n",
       "        <td>FRG</td>\n",
       "    </tr>\n",
       "    <tr>\n",
       "        <td>Plain stage</td>\n",
       "        <td>6</td>\n",
       "        <td>FRG</td>\n",
       "    </tr>\n",
       "    <tr>\n",
       "        <td>Stage with mountain(s)</td>\n",
       "        <td>4</td>\n",
       "        <td>FRG</td>\n",
       "    </tr>\n",
       "    <tr>\n",
       "        <td>Flat stage</td>\n",
       "        <td>30</td>\n",
       "        <td>GBR</td>\n",
       "    </tr>\n",
       "    <tr>\n",
       "        <td>High mountain stage</td>\n",
       "        <td>4</td>\n",
       "        <td>GBR</td>\n",
       "    </tr>\n",
       "    <tr>\n",
       "        <td>Hilly stage</td>\n",
       "        <td>1</td>\n",
       "        <td>GBR</td>\n",
       "    </tr>\n",
       "    <tr>\n",
       "        <td>Individual time trial</td>\n",
       "        <td>10</td>\n",
       "        <td>GBR</td>\n",
       "    </tr>\n",
       "    <tr>\n",
       "        <td>Medium mountain stage</td>\n",
       "        <td>4</td>\n",
       "        <td>GBR</td>\n",
       "    </tr>\n",
       "    <tr>\n",
       "        <td>Mountain time trial</td>\n",
       "        <td>1</td>\n",
       "        <td>GBR</td>\n",
       "    </tr>\n",
       "    <tr>\n",
       "        <td>Plain stage</td>\n",
       "        <td>11</td>\n",
       "        <td>GBR</td>\n",
       "    </tr>\n",
       "    <tr>\n",
       "        <td>Stage with mountain(s)</td>\n",
       "        <td>6</td>\n",
       "        <td>GBR</td>\n",
       "    </tr>\n",
       "    <tr>\n",
       "        <td>Plain stage</td>\n",
       "        <td>1</td>\n",
       "        <td>GDR</td>\n",
       "    </tr>\n",
       "    <tr>\n",
       "        <td>Flat stage</td>\n",
       "        <td>28</td>\n",
       "        <td>GER</td>\n",
       "    </tr>\n",
       "    <tr>\n",
       "        <td>High mountain stage</td>\n",
       "        <td>1</td>\n",
       "        <td>GER</td>\n",
       "    </tr>\n",
       "    <tr>\n",
       "        <td>Hilly stage</td>\n",
       "        <td>2</td>\n",
       "        <td>GER</td>\n",
       "    </tr>\n",
       "    <tr>\n",
       "        <td>Individual time trial</td>\n",
       "        <td>9</td>\n",
       "        <td>GER</td>\n",
       "    </tr>\n",
       "    <tr>\n",
       "        <td>Medium mountain stage</td>\n",
       "        <td>4</td>\n",
       "        <td>GER</td>\n",
       "    </tr>\n",
       "    <tr>\n",
       "        <td>Mountain stage</td>\n",
       "        <td>2</td>\n",
       "        <td>GER</td>\n",
       "    </tr>\n",
       "    <tr>\n",
       "        <td>Plain stage</td>\n",
       "        <td>21</td>\n",
       "        <td>GER</td>\n",
       "    </tr>\n",
       "    <tr>\n",
       "        <td>Stage with mountain(s)</td>\n",
       "        <td>3</td>\n",
       "        <td>GER</td>\n",
       "    </tr>\n",
       "    <tr>\n",
       "        <td>Transition stage</td>\n",
       "        <td>1</td>\n",
       "        <td>GER</td>\n",
       "    </tr>\n",
       "    <tr>\n",
       "        <td>Hilly stage</td>\n",
       "        <td>3</td>\n",
       "        <td>IRE</td>\n",
       "    </tr>\n",
       "    <tr>\n",
       "        <td>Individual time trial</td>\n",
       "        <td>1</td>\n",
       "        <td>IRE</td>\n",
       "    </tr>\n",
       "    <tr>\n",
       "        <td>Plain stage</td>\n",
       "        <td>3</td>\n",
       "        <td>IRE</td>\n",
       "    </tr>\n",
       "    <tr>\n",
       "        <td>Stage with mountain(s)</td>\n",
       "        <td>2</td>\n",
       "        <td>IRE</td>\n",
       "    </tr>\n",
       "    <tr>\n",
       "        <td>High mountain stage</td>\n",
       "        <td>1</td>\n",
       "        <td>IRL</td>\n",
       "    </tr>\n",
       "    <tr>\n",
       "        <td>Plain stage</td>\n",
       "        <td>1</td>\n",
       "        <td>IRL</td>\n",
       "    </tr>\n",
       "    <tr>\n",
       "        <td>Flat Stage</td>\n",
       "        <td>2</td>\n",
       "        <td>ITA</td>\n",
       "    </tr>\n",
       "    <tr>\n",
       "        <td>Flat stage</td>\n",
       "        <td>9</td>\n",
       "        <td>ITA</td>\n",
       "    </tr>\n",
       "    <tr>\n",
       "        <td>High mountain stage</td>\n",
       "        <td>4</td>\n",
       "        <td>ITA</td>\n",
       "    </tr>\n",
       "    <tr>\n",
       "        <td>Hilly stage</td>\n",
       "        <td>5</td>\n",
       "        <td>ITA</td>\n",
       "    </tr>\n",
       "    <tr>\n",
       "        <td>Individual time trial</td>\n",
       "        <td>8</td>\n",
       "        <td>ITA</td>\n",
       "    </tr>\n",
       "    <tr>\n",
       "        <td>Intermediate stage</td>\n",
       "        <td>2</td>\n",
       "        <td>ITA</td>\n",
       "    </tr>\n",
       "    <tr>\n",
       "        <td>Medium mountain stage</td>\n",
       "        <td>3</td>\n",
       "        <td>ITA</td>\n",
       "    </tr>\n",
       "    <tr>\n",
       "        <td>Mountain Stage</td>\n",
       "        <td>1</td>\n",
       "        <td>ITA</td>\n",
       "    </tr>\n",
       "    <tr>\n",
       "        <td>Mountain stage</td>\n",
       "        <td>3</td>\n",
       "        <td>ITA</td>\n",
       "    </tr>\n",
       "    <tr>\n",
       "        <td>Mountain time trial</td>\n",
       "        <td>2</td>\n",
       "        <td>ITA</td>\n",
       "    </tr>\n",
       "    <tr>\n",
       "        <td>Plain stage</td>\n",
       "        <td>141</td>\n",
       "        <td>ITA</td>\n",
       "    </tr>\n",
       "    <tr>\n",
       "        <td>Stage with mountain</td>\n",
       "        <td>1</td>\n",
       "        <td>ITA</td>\n",
       "    </tr>\n",
       "    <tr>\n",
       "        <td>Stage with mountain(s)</td>\n",
       "        <td>81</td>\n",
       "        <td>ITA</td>\n",
       "    </tr>\n",
       "    <tr>\n",
       "        <td>Flat stage</td>\n",
       "        <td>1</td>\n",
       "        <td>KAZ</td>\n",
       "    </tr>\n",
       "    <tr>\n",
       "        <td>Mountain stage</td>\n",
       "        <td>1</td>\n",
       "        <td>KAZ</td>\n",
       "    </tr>\n",
       "    <tr>\n",
       "        <td>Plain stage</td>\n",
       "        <td>1</td>\n",
       "        <td>KAZ</td>\n",
       "    </tr>\n",
       "    <tr>\n",
       "        <td>Stage with mountain(s)</td>\n",
       "        <td>1</td>\n",
       "        <td>KAZ</td>\n",
       "    </tr>\n",
       "    <tr>\n",
       "        <td>Mountain time trial</td>\n",
       "        <td>1</td>\n",
       "        <td>LAT</td>\n",
       "    </tr>\n",
       "    <tr>\n",
       "        <td>Stage with mountain(s)</td>\n",
       "        <td>1</td>\n",
       "        <td>LAT</td>\n",
       "    </tr>\n",
       "    <tr>\n",
       "        <td>Flat stage</td>\n",
       "        <td>1</td>\n",
       "        <td>LTU</td>\n",
       "    </tr>\n",
       "    <tr>\n",
       "        <td>High mountain stage</td>\n",
       "        <td>1</td>\n",
       "        <td>LUX</td>\n",
       "    </tr>\n",
       "    <tr>\n",
       "        <td>Individual time trial</td>\n",
       "        <td>4</td>\n",
       "        <td>LUX</td>\n",
       "    </tr>\n",
       "    <tr>\n",
       "        <td>Mountain Stage</td>\n",
       "        <td>1</td>\n",
       "        <td>LUX</td>\n",
       "    </tr>\n",
       "    <tr>\n",
       "        <td>Mountain stage</td>\n",
       "        <td>4</td>\n",
       "        <td>LUX</td>\n",
       "    </tr>\n",
       "    <tr>\n",
       "        <td>Mountain time trial</td>\n",
       "        <td>1</td>\n",
       "        <td>LUX</td>\n",
       "    </tr>\n",
       "    <tr>\n",
       "        <td>Plain stage</td>\n",
       "        <td>26</td>\n",
       "        <td>LUX</td>\n",
       "    </tr>\n",
       "    <tr>\n",
       "        <td>Stage with mountain(s)</td>\n",
       "        <td>29</td>\n",
       "        <td>LUX</td>\n",
       "    </tr>\n",
       "    <tr>\n",
       "        <td>Team time trial</td>\n",
       "        <td>4</td>\n",
       "        <td>LUX</td>\n",
       "    </tr>\n",
       "    <tr>\n",
       "        <td>Individual time trial</td>\n",
       "        <td>1</td>\n",
       "        <td>MEX</td>\n",
       "    </tr>\n",
       "    <tr>\n",
       "        <td>Plain stage</td>\n",
       "        <td>1</td>\n",
       "        <td>MEX</td>\n",
       "    </tr>\n",
       "    <tr>\n",
       "        <td>Flat Stage</td>\n",
       "        <td>1</td>\n",
       "        <td>NED</td>\n",
       "    </tr>\n",
       "    <tr>\n",
       "        <td>Flat cobblestone stage</td>\n",
       "        <td>1</td>\n",
       "        <td>NED</td>\n",
       "    </tr>\n",
       "    <tr>\n",
       "        <td>Flat stage</td>\n",
       "        <td>2</td>\n",
       "        <td>NED</td>\n",
       "    </tr>\n",
       "    <tr>\n",
       "        <td>Half Stage</td>\n",
       "        <td>2</td>\n",
       "        <td>NED</td>\n",
       "    </tr>\n",
       "    <tr>\n",
       "        <td>High mountain stage</td>\n",
       "        <td>1</td>\n",
       "        <td>NED</td>\n",
       "    </tr>\n",
       "    <tr>\n",
       "        <td>Hilly stage</td>\n",
       "        <td>11</td>\n",
       "        <td>NED</td>\n",
       "    </tr>\n",
       "    <tr>\n",
       "        <td>Individual time trial</td>\n",
       "        <td>13</td>\n",
       "        <td>NED</td>\n",
       "    </tr>\n",
       "    <tr>\n",
       "        <td>Medium mountain stage</td>\n",
       "        <td>2</td>\n",
       "        <td>NED</td>\n",
       "    </tr>\n",
       "    <tr>\n",
       "        <td>Mountain Stage</td>\n",
       "        <td>3</td>\n",
       "        <td>NED</td>\n",
       "    </tr>\n",
       "    <tr>\n",
       "        <td>Mountain time trial</td>\n",
       "        <td>2</td>\n",
       "        <td>NED</td>\n",
       "    </tr>\n",
       "    <tr>\n",
       "        <td>Plain stage</td>\n",
       "        <td>100</td>\n",
       "        <td>NED</td>\n",
       "    </tr>\n",
       "    <tr>\n",
       "        <td>Plain stage with cobblestones</td>\n",
       "        <td>1</td>\n",
       "        <td>NED</td>\n",
       "    </tr>\n",
       "    <tr>\n",
       "        <td>Stage with mountain(s)</td>\n",
       "        <td>18</td>\n",
       "        <td>NED</td>\n",
       "    </tr>\n",
       "    <tr>\n",
       "        <td>Flat cobblestone stage</td>\n",
       "        <td>1</td>\n",
       "        <td>NOR</td>\n",
       "    </tr>\n",
       "    <tr>\n",
       "        <td>Flat stage</td>\n",
       "        <td>7</td>\n",
       "        <td>NOR</td>\n",
       "    </tr>\n",
       "    <tr>\n",
       "        <td>High mountain stage</td>\n",
       "        <td>2</td>\n",
       "        <td>NOR</td>\n",
       "    </tr>\n",
       "    <tr>\n",
       "        <td>Hilly stage</td>\n",
       "        <td>1</td>\n",
       "        <td>NOR</td>\n",
       "    </tr>\n",
       "    <tr>\n",
       "        <td>Individual time trial</td>\n",
       "        <td>1</td>\n",
       "        <td>NOR</td>\n",
       "    </tr>\n",
       "    <tr>\n",
       "        <td>Medium mountain stage</td>\n",
       "        <td>1</td>\n",
       "        <td>NOR</td>\n",
       "    </tr>\n",
       "    <tr>\n",
       "        <td>Plain stage</td>\n",
       "        <td>2</td>\n",
       "        <td>NOR</td>\n",
       "    </tr>\n",
       "    <tr>\n",
       "        <td>Stage with mountain(s)</td>\n",
       "        <td>1</td>\n",
       "        <td>NOR</td>\n",
       "    </tr>\n",
       "    <tr>\n",
       "        <td>Transition stage</td>\n",
       "        <td>1</td>\n",
       "        <td>NOR</td>\n",
       "    </tr>\n",
       "    <tr>\n",
       "        <td>High mountain stage</td>\n",
       "        <td>3</td>\n",
       "        <td>POL</td>\n",
       "    </tr>\n",
       "    <tr>\n",
       "        <td>Individual time trial</td>\n",
       "        <td>1</td>\n",
       "        <td>POL</td>\n",
       "    </tr>\n",
       "    <tr>\n",
       "        <td>Stage with mountain(s)</td>\n",
       "        <td>1</td>\n",
       "        <td>POL</td>\n",
       "    </tr>\n",
       "    <tr>\n",
       "        <td>High mountain stage</td>\n",
       "        <td>2</td>\n",
       "        <td>POR</td>\n",
       "    </tr>\n",
       "    <tr>\n",
       "        <td>Individual time trial</td>\n",
       "        <td>1</td>\n",
       "        <td>POR</td>\n",
       "    </tr>\n",
       "    <tr>\n",
       "        <td>Medium mountain stage</td>\n",
       "        <td>2</td>\n",
       "        <td>POR</td>\n",
       "    </tr>\n",
       "    <tr>\n",
       "        <td>Plain stage</td>\n",
       "        <td>5</td>\n",
       "        <td>POR</td>\n",
       "    </tr>\n",
       "    <tr>\n",
       "        <td>Stage with mountain(s)</td>\n",
       "        <td>2</td>\n",
       "        <td>POR</td>\n",
       "    </tr>\n",
       "    <tr>\n",
       "        <td>Plain stage</td>\n",
       "        <td>1</td>\n",
       "        <td>RSA</td>\n",
       "    </tr>\n",
       "    <tr>\n",
       "        <td>Flat stage</td>\n",
       "        <td>1</td>\n",
       "        <td>RUS</td>\n",
       "    </tr>\n",
       "    <tr>\n",
       "        <td>High mountain stage</td>\n",
       "        <td>1</td>\n",
       "        <td>RUS</td>\n",
       "    </tr>\n",
       "    <tr>\n",
       "        <td>Individual time trial</td>\n",
       "        <td>1</td>\n",
       "        <td>RUS</td>\n",
       "    </tr>\n",
       "    <tr>\n",
       "        <td>Mountain stage</td>\n",
       "        <td>2</td>\n",
       "        <td>RUS</td>\n",
       "    </tr>\n",
       "    <tr>\n",
       "        <td>Plain stage</td>\n",
       "        <td>2</td>\n",
       "        <td>RUS</td>\n",
       "    </tr>\n",
       "    <tr>\n",
       "        <td>High mountain stage</td>\n",
       "        <td>1</td>\n",
       "        <td>SLO</td>\n",
       "    </tr>\n",
       "    <tr>\n",
       "        <td>Hilly stage</td>\n",
       "        <td>2</td>\n",
       "        <td>SUI</td>\n",
       "    </tr>\n",
       "    <tr>\n",
       "        <td>Individual time trial</td>\n",
       "        <td>15</td>\n",
       "        <td>SUI</td>\n",
       "    </tr>\n",
       "    <tr>\n",
       "        <td>Mountain time trial</td>\n",
       "        <td>1</td>\n",
       "        <td>SUI</td>\n",
       "    </tr>\n",
       "    <tr>\n",
       "        <td>Plain stage</td>\n",
       "        <td>26</td>\n",
       "        <td>SUI</td>\n",
       "    </tr>\n",
       "    <tr>\n",
       "        <td>Stage with mountain(s)</td>\n",
       "        <td>13</td>\n",
       "        <td>SUI</td>\n",
       "    </tr>\n",
       "    <tr>\n",
       "        <td>Flat stage</td>\n",
       "        <td>6</td>\n",
       "        <td>SVK</td>\n",
       "    </tr>\n",
       "    <tr>\n",
       "        <td>Medium mountain stage</td>\n",
       "        <td>2</td>\n",
       "        <td>SVK</td>\n",
       "    </tr>\n",
       "    <tr>\n",
       "        <td>Plain stage</td>\n",
       "        <td>1</td>\n",
       "        <td>SVK</td>\n",
       "    </tr>\n",
       "    <tr>\n",
       "        <td>Plain stage</td>\n",
       "        <td>1</td>\n",
       "        <td>SWE</td>\n",
       "    </tr>\n",
       "    <tr>\n",
       "        <td>Hilly stage</td>\n",
       "        <td>1</td>\n",
       "        <td>UKR</td>\n",
       "    </tr>\n",
       "    <tr>\n",
       "        <td>Individual time trial</td>\n",
       "        <td>2</td>\n",
       "        <td>UKR</td>\n",
       "    </tr>\n",
       "    <tr>\n",
       "        <td>Plain stage</td>\n",
       "        <td>1</td>\n",
       "        <td>UKR</td>\n",
       "    </tr>\n",
       "    <tr>\n",
       "        <td>Hilly stage</td>\n",
       "        <td>2</td>\n",
       "        <td>URS</td>\n",
       "    </tr>\n",
       "    <tr>\n",
       "        <td>Plain stage</td>\n",
       "        <td>3</td>\n",
       "        <td>URS</td>\n",
       "    </tr>\n",
       "    <tr>\n",
       "        <td>Stage with mountain(s)</td>\n",
       "        <td>1</td>\n",
       "        <td>URS</td>\n",
       "    </tr>\n",
       "    <tr>\n",
       "        <td>Flat stage</td>\n",
       "        <td>1</td>\n",
       "        <td>USA</td>\n",
       "    </tr>\n",
       "    <tr>\n",
       "        <td>Individual time trial</td>\n",
       "        <td>16</td>\n",
       "        <td>USA</td>\n",
       "    </tr>\n",
       "    <tr>\n",
       "        <td>Mountain stage</td>\n",
       "        <td>4</td>\n",
       "        <td>USA</td>\n",
       "    </tr>\n",
       "    <tr>\n",
       "        <td>Plain stage</td>\n",
       "        <td>5</td>\n",
       "        <td>USA</td>\n",
       "    </tr>\n",
       "    <tr>\n",
       "        <td>Stage with mountain(s)</td>\n",
       "        <td>10</td>\n",
       "        <td>USA</td>\n",
       "    </tr>\n",
       "    <tr>\n",
       "        <td>Team time trial</td>\n",
       "        <td>2</td>\n",
       "        <td>USA</td>\n",
       "    </tr>\n",
       "    <tr>\n",
       "        <td>Hilly stage</td>\n",
       "        <td>2</td>\n",
       "        <td>UZB</td>\n",
       "    </tr>\n",
       "    <tr>\n",
       "        <td>Plain stage</td>\n",
       "        <td>5</td>\n",
       "        <td>UZB</td>\n",
       "    </tr>\n",
       "    <tr>\n",
       "        <td>Plain stage</td>\n",
       "        <td>1</td>\n",
       "        <td>c(&quot;BEL&quot;, &quot;BEL&quot;)</td>\n",
       "    </tr>\n",
       "    <tr>\n",
       "        <td>Plain stage</td>\n",
       "        <td>1</td>\n",
       "        <td>c(&quot;BEL&quot;, &quot;GER&quot;)</td>\n",
       "    </tr>\n",
       "    <tr>\n",
       "        <td>Plain stage</td>\n",
       "        <td>3</td>\n",
       "        <td>c(&quot;FRA&quot;, &quot;FRA&quot;)</td>\n",
       "    </tr>\n",
       "</table>"
      ],
      "text/plain": [
       "[('Plain stage', 1, None),\n",
       " ('Stage with mountain(s)', 3, None),\n",
       " ('Team time trial', 48, None),\n",
       " ('Flat stage', 5, 'AUS'),\n",
       " ('High mountain stage', 1, 'AUS'),\n",
       " ('Hilly stage', 1, 'AUS'),\n",
       " ('Individual time trial', 3, 'AUS'),\n",
       " ('Medium mountain stage', 4, 'AUS'),\n",
       " ('Mountain stage', 1, 'AUS'),\n",
       " ('Plain stage', 14, 'AUS'),\n",
       " ('Mountain stage', 1, 'AUT'),\n",
       " ('Plain stage', 2, 'AUT'),\n",
       " ('Stage with mountain(s)', 1, 'AUT'),\n",
       " ('Flat Stage', 4, 'BEL'),\n",
       " ('Flat stage', 2, 'BEL'),\n",
       " ('Half Stage', 2, 'BEL'),\n",
       " ('High mountain stage', 2, 'BEL'),\n",
       " ('Hilly stage', 12, 'BEL'),\n",
       " ('Individual time trial', 37, 'BEL'),\n",
       " ('Intermediate stage', 1, 'BEL'),\n",
       " ('Medium mountain stage', 3, 'BEL'),\n",
       " ('Mountain Stage', 2, 'BEL'),\n",
       " ('Mountain time trial', 1, 'BEL'),\n",
       " ('Plain stage', 266, 'BEL'),\n",
       " ('Stage with mountain', 5, 'BEL'),\n",
       " ('Stage with mountain(s)', 105, 'BEL'),\n",
       " ('Team time trial', 18, 'BEL'),\n",
       " ('Plain stage', 1, 'BRA'),\n",
       " ('Plain stage', 1, 'CAN'),\n",
       " ('High mountain stage', 3, 'COL'),\n",
       " ('Hilly stage', 3, 'COL'),\n",
       " ('Individual time trial', 1, 'COL'),\n",
       " ('Mountain stage', 1, 'COL'),\n",
       " ('Stage with mountain(s)', 8, 'COL'),\n",
       " ('Flat stage', 1, 'CZE'),\n",
       " ('Plain stage', 2, 'CZE'),\n",
       " ('Flat stage', 1, 'DEN'),\n",
       " ('Hilly stage', 4, 'DEN'),\n",
       " ('Mountain stage', 3, 'DEN'),\n",
       " ('Plain stage', 7, 'DEN'),\n",
       " ('Stage with mountain(s)', 3, 'DEN'),\n",
       " ('Flat stage', 5, 'ESP'),\n",
       " ('Half Stage', 1, 'ESP'),\n",
       " ('High mountain stage', 5, 'ESP'),\n",
       " ('Hilly stage', 6, 'ESP'),\n",
       " ('Individual time trial', 19, 'ESP'),\n",
       " ('Medium mountain stage', 3, 'ESP'),\n",
       " ('Mountain Stage', 2, 'ESP'),\n",
       " ('Mountain stage', 9, 'ESP'),\n",
       " ('Mountain time trial', 3, 'ESP'),\n",
       " ('Plain stage', 17, 'ESP'),\n",
       " ('Stage with mountain(s)', 53, 'ESP'),\n",
       " ('Transition stage', 2, 'ESP'),\n",
       " ('Plain stage', 4, 'EST'),\n",
       " ('Flat Stage', 2, 'FRA'),\n",
       " ('Flat stage', 10, 'FRA'),\n",
       " ('High mountain stage', 11, 'FRA'),\n",
       " ('Hilly stage', 20, 'FRA'),\n",
       " ('Individual time trial', 58, 'FRA'),\n",
       " ('Medium mountain stage', 5, 'FRA'),\n",
       " ('Mountain Stage', 2, 'FRA'),\n",
       " ('Mountain stage', 9, 'FRA'),\n",
       " ('Mountain time trial', 1, 'FRA'),\n",
       " ('Plain stage', 369, 'FRA'),\n",
       " ('Stage with mountain', 5, 'FRA'),\n",
       " ('Stage with mountain(s)', 184, 'FRA'),\n",
       " ('Team time trial', 15, 'FRA'),\n",
       " ('Individual time trial', 4, 'FRG'),\n",
       " ('Plain stage', 6, 'FRG'),\n",
       " ('Stage with mountain(s)', 4, 'FRG'),\n",
       " ('Flat stage', 30, 'GBR'),\n",
       " ('High mountain stage', 4, 'GBR'),\n",
       " ('Hilly stage', 1, 'GBR'),\n",
       " ('Individual time trial', 10, 'GBR'),\n",
       " ('Medium mountain stage', 4, 'GBR'),\n",
       " ('Mountain time trial', 1, 'GBR'),\n",
       " ('Plain stage', 11, 'GBR'),\n",
       " ('Stage with mountain(s)', 6, 'GBR'),\n",
       " ('Plain stage', 1, 'GDR'),\n",
       " ('Flat stage', 28, 'GER'),\n",
       " ('High mountain stage', 1, 'GER'),\n",
       " ('Hilly stage', 2, 'GER'),\n",
       " ('Individual time trial', 9, 'GER'),\n",
       " ('Medium mountain stage', 4, 'GER'),\n",
       " ('Mountain stage', 2, 'GER'),\n",
       " ('Plain stage', 21, 'GER'),\n",
       " ('Stage with mountain(s)', 3, 'GER'),\n",
       " ('Transition stage', 1, 'GER'),\n",
       " ('Hilly stage', 3, 'IRE'),\n",
       " ('Individual time trial', 1, 'IRE'),\n",
       " ('Plain stage', 3, 'IRE'),\n",
       " ('Stage with mountain(s)', 2, 'IRE'),\n",
       " ('High mountain stage', 1, 'IRL'),\n",
       " ('Plain stage', 1, 'IRL'),\n",
       " ('Flat Stage', 2, 'ITA'),\n",
       " ('Flat stage', 9, 'ITA'),\n",
       " ('High mountain stage', 4, 'ITA'),\n",
       " ('Hilly stage', 5, 'ITA'),\n",
       " ('Individual time trial', 8, 'ITA'),\n",
       " ('Intermediate stage', 2, 'ITA'),\n",
       " ('Medium mountain stage', 3, 'ITA'),\n",
       " ('Mountain Stage', 1, 'ITA'),\n",
       " ('Mountain stage', 3, 'ITA'),\n",
       " ('Mountain time trial', 2, 'ITA'),\n",
       " ('Plain stage', 141, 'ITA'),\n",
       " ('Stage with mountain', 1, 'ITA'),\n",
       " ('Stage with mountain(s)', 81, 'ITA'),\n",
       " ('Flat stage', 1, 'KAZ'),\n",
       " ('Mountain stage', 1, 'KAZ'),\n",
       " ('Plain stage', 1, 'KAZ'),\n",
       " ('Stage with mountain(s)', 1, 'KAZ'),\n",
       " ('Mountain time trial', 1, 'LAT'),\n",
       " ('Stage with mountain(s)', 1, 'LAT'),\n",
       " ('Flat stage', 1, 'LTU'),\n",
       " ('High mountain stage', 1, 'LUX'),\n",
       " ('Individual time trial', 4, 'LUX'),\n",
       " ('Mountain Stage', 1, 'LUX'),\n",
       " ('Mountain stage', 4, 'LUX'),\n",
       " ('Mountain time trial', 1, 'LUX'),\n",
       " ('Plain stage', 26, 'LUX'),\n",
       " ('Stage with mountain(s)', 29, 'LUX'),\n",
       " ('Team time trial', 4, 'LUX'),\n",
       " ('Individual time trial', 1, 'MEX'),\n",
       " ('Plain stage', 1, 'MEX'),\n",
       " ('Flat Stage', 1, 'NED'),\n",
       " ('Flat cobblestone stage', 1, 'NED'),\n",
       " ('Flat stage', 2, 'NED'),\n",
       " ('Half Stage', 2, 'NED'),\n",
       " ('High mountain stage', 1, 'NED'),\n",
       " ('Hilly stage', 11, 'NED'),\n",
       " ('Individual time trial', 13, 'NED'),\n",
       " ('Medium mountain stage', 2, 'NED'),\n",
       " ('Mountain Stage', 3, 'NED'),\n",
       " ('Mountain time trial', 2, 'NED'),\n",
       " ('Plain stage', 100, 'NED'),\n",
       " ('Plain stage with cobblestones', 1, 'NED'),\n",
       " ('Stage with mountain(s)', 18, 'NED'),\n",
       " ('Flat cobblestone stage', 1, 'NOR'),\n",
       " ('Flat stage', 7, 'NOR'),\n",
       " ('High mountain stage', 2, 'NOR'),\n",
       " ('Hilly stage', 1, 'NOR'),\n",
       " ('Individual time trial', 1, 'NOR'),\n",
       " ('Medium mountain stage', 1, 'NOR'),\n",
       " ('Plain stage', 2, 'NOR'),\n",
       " ('Stage with mountain(s)', 1, 'NOR'),\n",
       " ('Transition stage', 1, 'NOR'),\n",
       " ('High mountain stage', 3, 'POL'),\n",
       " ('Individual time trial', 1, 'POL'),\n",
       " ('Stage with mountain(s)', 1, 'POL'),\n",
       " ('High mountain stage', 2, 'POR'),\n",
       " ('Individual time trial', 1, 'POR'),\n",
       " ('Medium mountain stage', 2, 'POR'),\n",
       " ('Plain stage', 5, 'POR'),\n",
       " ('Stage with mountain(s)', 2, 'POR'),\n",
       " ('Plain stage', 1, 'RSA'),\n",
       " ('Flat stage', 1, 'RUS'),\n",
       " ('High mountain stage', 1, 'RUS'),\n",
       " ('Individual time trial', 1, 'RUS'),\n",
       " ('Mountain stage', 2, 'RUS'),\n",
       " ('Plain stage', 2, 'RUS'),\n",
       " ('High mountain stage', 1, 'SLO'),\n",
       " ('Hilly stage', 2, 'SUI'),\n",
       " ('Individual time trial', 15, 'SUI'),\n",
       " ('Mountain time trial', 1, 'SUI'),\n",
       " ('Plain stage', 26, 'SUI'),\n",
       " ('Stage with mountain(s)', 13, 'SUI'),\n",
       " ('Flat stage', 6, 'SVK'),\n",
       " ('Medium mountain stage', 2, 'SVK'),\n",
       " ('Plain stage', 1, 'SVK'),\n",
       " ('Plain stage', 1, 'SWE'),\n",
       " ('Hilly stage', 1, 'UKR'),\n",
       " ('Individual time trial', 2, 'UKR'),\n",
       " ('Plain stage', 1, 'UKR'),\n",
       " ('Hilly stage', 2, 'URS'),\n",
       " ('Plain stage', 3, 'URS'),\n",
       " ('Stage with mountain(s)', 1, 'URS'),\n",
       " ('Flat stage', 1, 'USA'),\n",
       " ('Individual time trial', 16, 'USA'),\n",
       " ('Mountain stage', 4, 'USA'),\n",
       " ('Plain stage', 5, 'USA'),\n",
       " ('Stage with mountain(s)', 10, 'USA'),\n",
       " ('Team time trial', 2, 'USA'),\n",
       " ('Hilly stage', 2, 'UZB'),\n",
       " ('Plain stage', 5, 'UZB'),\n",
       " ('Plain stage', 1, 'c(\"BEL\", \"BEL\")'),\n",
       " ('Plain stage', 1, 'c(\"BEL\", \"GER\")'),\n",
       " ('Plain stage', 3, 'c(\"FRA\", \"FRA\")')]"
      ]
     },
     "execution_count": 58,
     "metadata": {},
     "output_type": "execute_result"
    }
   ],
   "source": [
    "%sql SELECT Type, count(Type), Winner_Country FROM tdf_stages GROUP BY Type, Winner_Country ORDER BY Winner_Country ASC;"
   ]
  },
  {
   "cell_type": "code",
   "execution_count": 59,
   "metadata": {},
   "outputs": [
    {
     "name": "stdout",
     "output_type": "stream",
     "text": [
      " * sqlite://\n",
      "Done.\n"
     ]
    },
    {
     "data": {
      "text/html": [
       "<table>\n",
       "    <tr>\n",
       "        <th>Type</th>\n",
       "        <th>count(Type)</th>\n",
       "    </tr>\n",
       "    <tr>\n",
       "        <td>Plain stage</td>\n",
       "        <td>1053</td>\n",
       "    </tr>\n",
       "    <tr>\n",
       "        <td>Stage with mountain(s)</td>\n",
       "        <td>530</td>\n",
       "    </tr>\n",
       "    <tr>\n",
       "        <td>Individual time trial</td>\n",
       "        <td>205</td>\n",
       "    </tr>\n",
       "    <tr>\n",
       "        <td>Flat stage</td>\n",
       "        <td>110</td>\n",
       "    </tr>\n",
       "    <tr>\n",
       "        <td>Team time trial</td>\n",
       "        <td>87</td>\n",
       "    </tr>\n",
       "    <tr>\n",
       "        <td>Hilly stage</td>\n",
       "        <td>76</td>\n",
       "    </tr>\n",
       "    <tr>\n",
       "        <td>High mountain stage</td>\n",
       "        <td>43</td>\n",
       "    </tr>\n",
       "    <tr>\n",
       "        <td>Mountain stage</td>\n",
       "        <td>40</td>\n",
       "    </tr>\n",
       "    <tr>\n",
       "        <td>Medium mountain stage</td>\n",
       "        <td>33</td>\n",
       "    </tr>\n",
       "    <tr>\n",
       "        <td>Mountain time trial</td>\n",
       "        <td>13</td>\n",
       "    </tr>\n",
       "    <tr>\n",
       "        <td>Stage with mountain</td>\n",
       "        <td>11</td>\n",
       "    </tr>\n",
       "    <tr>\n",
       "        <td>Mountain Stage</td>\n",
       "        <td>11</td>\n",
       "    </tr>\n",
       "    <tr>\n",
       "        <td>Flat Stage</td>\n",
       "        <td>9</td>\n",
       "    </tr>\n",
       "    <tr>\n",
       "        <td>Half Stage</td>\n",
       "        <td>5</td>\n",
       "    </tr>\n",
       "    <tr>\n",
       "        <td>Transition stage</td>\n",
       "        <td>4</td>\n",
       "    </tr>\n",
       "    <tr>\n",
       "        <td>Intermediate stage</td>\n",
       "        <td>3</td>\n",
       "    </tr>\n",
       "    <tr>\n",
       "        <td>Flat cobblestone stage</td>\n",
       "        <td>2</td>\n",
       "    </tr>\n",
       "    <tr>\n",
       "        <td>Plain stage with cobblestones</td>\n",
       "        <td>1</td>\n",
       "    </tr>\n",
       "</table>"
      ],
      "text/plain": [
       "[('Plain stage', 1053),\n",
       " ('Stage with mountain(s)', 530),\n",
       " ('Individual time trial', 205),\n",
       " ('Flat stage', 110),\n",
       " ('Team time trial', 87),\n",
       " ('Hilly stage', 76),\n",
       " ('High mountain stage', 43),\n",
       " ('Mountain stage', 40),\n",
       " ('Medium mountain stage', 33),\n",
       " ('Mountain time trial', 13),\n",
       " ('Stage with mountain', 11),\n",
       " ('Mountain Stage', 11),\n",
       " ('Flat Stage', 9),\n",
       " ('Half Stage', 5),\n",
       " ('Transition stage', 4),\n",
       " ('Intermediate stage', 3),\n",
       " ('Flat cobblestone stage', 2),\n",
       " ('Plain stage with cobblestones', 1)]"
      ]
     },
     "execution_count": 59,
     "metadata": {},
     "output_type": "execute_result"
    }
   ],
   "source": [
    "%sql SELECT Type, count(Type) FROM tdf_stages GROUP BY Type ORDER BY count(Type) DESC;"
   ]
  },
  {
   "cell_type": "code",
   "execution_count": null,
   "metadata": {},
   "outputs": [],
   "source": []
  }
 ],
 "metadata": {
  "kernelspec": {
   "display_name": "Python 3",
   "language": "python",
   "name": "python3"
  },
  "language_info": {
   "codemirror_mode": {
    "name": "ipython",
    "version": 3
   },
   "file_extension": ".py",
   "mimetype": "text/x-python",
   "name": "python",
   "nbconvert_exporter": "python",
   "pygments_lexer": "ipython3",
   "version": "3.9.1"
  }
 },
 "nbformat": 4,
 "nbformat_minor": 4
}
